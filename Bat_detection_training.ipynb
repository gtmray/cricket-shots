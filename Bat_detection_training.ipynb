{
  "nbformat": 4,
  "nbformat_minor": 0,
  "metadata": {
    "colab": {
      "name": "Copy of Bat Detection TFLite.ipynb",
      "provenance": []
    },
    "kernelspec": {
      "name": "python3",
      "display_name": "Python 3"
    },
    "language_info": {
      "name": "python"
    },
    "accelerator": "GPU"
  },
  "cells": [
    {
      "cell_type": "markdown",
      "source": [
        "Install tflite model maker"
      ],
      "metadata": {
        "id": "_Z-Kn33eefih"
      }
    },
    {
      "cell_type": "code",
      "execution_count": null,
      "metadata": {
        "colab": {
          "base_uri": "https://localhost:8080/"
        },
        "id": "QNU_vlfgdloV",
        "outputId": "fafa9d2e-1a4c-4a39-885e-29bb2a13b1be"
      },
      "outputs": [
        {
          "output_type": "stream",
          "name": "stdout",
          "text": [
            "\u001b[K     |████████████████████████████████| 616 kB 4.3 MB/s \n",
            "\u001b[K     |████████████████████████████████| 6.4 MB 46.8 MB/s \n",
            "\u001b[K     |████████████████████████████████| 87 kB 4.9 MB/s \n",
            "\u001b[K     |████████████████████████████████| 1.1 MB 42.9 MB/s \n",
            "\u001b[K     |████████████████████████████████| 120 kB 53.2 MB/s \n",
            "\u001b[K     |████████████████████████████████| 840 kB 52.4 MB/s \n",
            "\u001b[K     |████████████████████████████████| 596 kB 51.5 MB/s \n",
            "\u001b[K     |████████████████████████████████| 1.2 MB 39.3 MB/s \n",
            "\u001b[K     |████████████████████████████████| 77 kB 5.4 MB/s \n",
            "\u001b[K     |████████████████████████████████| 3.4 MB 41.5 MB/s \n",
            "\u001b[K     |████████████████████████████████| 1.1 MB 40.1 MB/s \n",
            "\u001b[K     |████████████████████████████████| 213 kB 50.6 MB/s \n",
            "\u001b[K     |████████████████████████████████| 25.3 MB 56.6 MB/s \n",
            "\u001b[K     |████████████████████████████████| 99 kB 8.9 MB/s \n",
            "\u001b[K     |████████████████████████████████| 352 kB 49.4 MB/s \n",
            "\u001b[K     |████████████████████████████████| 47.7 MB 99 kB/s \n",
            "\u001b[K     |████████████████████████████████| 210 kB 50.8 MB/s \n",
            "\u001b[?25h  Building wheel for fire (setup.py) ... \u001b[?25l\u001b[?25hdone\n",
            "  Building wheel for py-cpuinfo (setup.py) ... \u001b[?25l\u001b[?25hdone\n"
          ]
        }
      ],
      "source": [
        "# q is for quiet (Hide details if requirement already satisfied)\n",
        "!pip install -q tflite-model-maker\n",
        "!pip install -q tflite-support"
      ]
    },
    {
      "cell_type": "markdown",
      "source": [
        "Import required packages\n"
      ],
      "metadata": {
        "id": "-W8u6q_vemGm"
      }
    },
    {
      "cell_type": "code",
      "source": [
        "import numpy as np\n",
        "import os\n",
        "\n",
        "from tflite_model_maker.config import ExportFormat, QuantizationConfig\n",
        "from tflite_model_maker import model_spec\n",
        "from tflite_model_maker import object_detector\n",
        "from tflite_support import metadata\n",
        "import tensorflow as tf\n",
        "\n",
        "# tf.get_logger().setLevel('ERROR')\n",
        "# from absl import logging\n",
        "# logging.set_verbosity(logging.ERROR)"
      ],
      "metadata": {
        "id": "UY-c04_bdwLn"
      },
      "execution_count": null,
      "outputs": []
    },
    {
      "cell_type": "markdown",
      "source": [
        "Get the contents of google drive to this notebook"
      ],
      "metadata": {
        "id": "bOuOMPxmex2t"
      }
    },
    {
      "cell_type": "code",
      "source": [
        "from google.colab import drive\n",
        "drive.mount('/content/drive')"
      ],
      "metadata": {
        "colab": {
          "base_uri": "https://localhost:8080/"
        },
        "id": "L3iZ10R4eahE",
        "outputId": "0949d633-60a2-4e74-a2b7-1913b34ee32b"
      },
      "execution_count": null,
      "outputs": [
        {
          "output_type": "stream",
          "name": "stdout",
          "text": [
            "Mounted at /content/drive\n"
          ]
        }
      ]
    },
    {
      "cell_type": "markdown",
      "source": [
        "Change the directory to the folder containing images"
      ],
      "metadata": {
        "id": "pHgfYHLyfGvL"
      }
    },
    {
      "cell_type": "code",
      "source": [
        "os.chdir('/content/drive/MyDrive/bat_images')"
      ],
      "metadata": {
        "id": "cD0QDVXle4c3"
      },
      "execution_count": null,
      "outputs": []
    },
    {
      "cell_type": "markdown",
      "source": [
        "Load the data that are stored in Pascal VOC (Visual Object Classes) format. Pascal VOC is an XML (Extensible Markup Language) file which is created for each of the image. Pascal VOC stores the bounding boxes as (xmin, ymin, xmax, ymax)"
      ],
      "metadata": {
        "id": "P4e6uvj5jJu3"
      }
    },
    {
      "cell_type": "code",
      "source": [
        "train_data = object_detector.DataLoader.from_pascal_voc(\n",
        "    images_dir='train',\n",
        "    annotations_dir='train',\n",
        "    label_map={1: \"bat\"}\n",
        ")\n",
        "\n",
        "val_data = object_detector.DataLoader.from_pascal_voc(\n",
        "    images_dir='test',\n",
        "    annotations_dir='test',\n",
        "    label_map={1: \"bat\"}\n",
        ")"
      ],
      "metadata": {
        "colab": {
          "base_uri": "https://localhost:8080/"
        },
        "id": "GmK5H59dgE9r",
        "outputId": "01d43e8e-0d20-49cb-d955-230add32921f"
      },
      "execution_count": null,
      "outputs": [
        {
          "output_type": "stream",
          "name": "stdout",
          "text": [
            "INFO:tensorflow:Cache will be stored in /tmp/tmptghlbgrn with prefix filename 7bee435cfee6949ada7cad38d32e815e. Cache_prefix is /tmp/tmptghlbgrn/7bee435cfee6949ada7cad38d32e815e\n",
            "INFO:tensorflow:On image 0\n",
            "INFO:tensorflow:On image 100\n",
            "INFO:tensorflow:Cache will be stored in /tmp/tmp3odxcdx6 with prefix filename fd42585a6188df7d3abc4e516ad0ebb5. Cache_prefix is /tmp/tmp3odxcdx6/fd42585a6188df7d3abc4e516ad0ebb5\n",
            "INFO:tensorflow:On image 0\n"
          ]
        }
      ]
    },
    {
      "cell_type": "markdown",
      "source": [
        "Choose the model architecture"
      ],
      "metadata": {
        "id": "jqZNvvx0lV_x"
      }
    },
    {
      "cell_type": "code",
      "source": [
        "model_arch = model_spec.get('efficientdet_lite0')"
      ],
      "metadata": {
        "id": "CTzkLjiwkTOv"
      },
      "execution_count": null,
      "outputs": []
    },
    {
      "cell_type": "markdown",
      "source": [
        "Train the model"
      ],
      "metadata": {
        "id": "tHJAG87dljf9"
      }
    },
    {
      "cell_type": "code",
      "source": [
        "BATCH_SIZE = 4\n",
        "EPOCHS = 100\n",
        "\n",
        "model = object_detector.create(train_data,\n",
        "                               model_spec=model_arch,\n",
        "                               batch_size=BATCH_SIZE,\n",
        "                               # Fine tune the whole model instead of just training the top layer\n",
        "                               train_whole_model=True,\n",
        "                               epochs=EPOCHS,\n",
        "                               validation_data=val_data)"
      ],
      "metadata": {
        "colab": {
          "base_uri": "https://localhost:8080/"
        },
        "id": "aYXQA4PHlYoo",
        "outputId": "696f89f7-9185-4258-ab88-4b984bdd7149"
      },
      "execution_count": null,
      "outputs": [
        {
          "output_type": "stream",
          "name": "stdout",
          "text": [
            "INFO:tensorflow:Retraining the models...\n",
            "Epoch 1/100\n",
            " 6/43 [===>..........................] - ETA: 10s - det_loss: 1.8805 - cls_loss: 1.1387 - box_loss: 0.0148 - reg_l2_loss: 0.0630 - loss: 1.9435 - learning_rate: 0.0078 - gradient_norm: 2.4824WARNING:tensorflow:Callback method `on_train_batch_end` is slow compared to the batch time (batch time: 0.2897s vs `on_train_batch_end` time: 0.2964s). Check your callbacks.\n"
          ]
        },
        {
          "output_type": "stream",
          "name": "stderr",
          "text": [
            "WARNING:tensorflow:Callback method `on_train_batch_end` is slow compared to the batch time (batch time: 0.2897s vs `on_train_batch_end` time: 0.2964s). Check your callbacks.\n"
          ]
        },
        {
          "output_type": "stream",
          "name": "stdout",
          "text": [
            "43/43 [==============================] - 64s 439ms/step - det_loss: 1.6112 - cls_loss: 0.9493 - box_loss: 0.0132 - reg_l2_loss: 0.0630 - loss: 1.6742 - learning_rate: 0.0065 - gradient_norm: 3.2657 - val_det_loss: 1.3856 - val_cls_loss: 0.7273 - val_box_loss: 0.0132 - val_reg_l2_loss: 0.0630 - val_loss: 1.4486\n",
            "Epoch 2/100\n",
            "43/43 [==============================] - 16s 363ms/step - det_loss: 1.3606 - cls_loss: 0.6656 - box_loss: 0.0139 - reg_l2_loss: 0.0630 - loss: 1.4236 - learning_rate: 0.0050 - gradient_norm: 6.2142 - val_det_loss: 1.2504 - val_cls_loss: 0.6355 - val_box_loss: 0.0123 - val_reg_l2_loss: 0.0631 - val_loss: 1.3135\n",
            "Epoch 3/100\n",
            "43/43 [==============================] - 15s 359ms/step - det_loss: 1.1062 - cls_loss: 0.5580 - box_loss: 0.0110 - reg_l2_loss: 0.0631 - loss: 1.1693 - learning_rate: 0.0050 - gradient_norm: 6.1962 - val_det_loss: 1.1918 - val_cls_loss: 0.6517 - val_box_loss: 0.0108 - val_reg_l2_loss: 0.0631 - val_loss: 1.2549\n",
            "Epoch 4/100\n",
            "43/43 [==============================] - 15s 352ms/step - det_loss: 1.0701 - cls_loss: 0.5334 - box_loss: 0.0107 - reg_l2_loss: 0.0632 - loss: 1.1333 - learning_rate: 0.0050 - gradient_norm: 7.2211 - val_det_loss: 1.1189 - val_cls_loss: 0.6181 - val_box_loss: 0.0100 - val_reg_l2_loss: 0.0632 - val_loss: 1.1822\n",
            "Epoch 5/100\n",
            "43/43 [==============================] - ETA: 0s - det_loss: 0.9322 - cls_loss: 0.4991 - box_loss: 0.0087 - reg_l2_loss: 0.0633 - loss: 0.9955 - learning_rate: 0.0050 - gradient_norm: 6.8157loading annotations into memory...\n",
            "Done (t=0.00s)\n",
            "creating index...\n",
            "index created!\n",
            "Loading and preparing results...\n",
            "Converting ndarray to lists...\n",
            "(2000, 7)\n",
            "0/2000\n",
            "DONE (t=0.01s)\n",
            "creating index...\n",
            "index created!\n",
            "Running per image evaluation...\n",
            "Evaluate annotation type *bbox*\n",
            "DONE (t=0.17s).\n",
            "Accumulating evaluation results...\n",
            "DONE (t=0.03s).\n",
            " Average Precision  (AP) @[ IoU=0.50:0.95 | area=   all | maxDets=100 ] = 0.093\n",
            " Average Precision  (AP) @[ IoU=0.50      | area=   all | maxDets=100 ] = 0.299\n",
            " Average Precision  (AP) @[ IoU=0.75      | area=   all | maxDets=100 ] = 0.042\n",
            " Average Precision  (AP) @[ IoU=0.50:0.95 | area= small | maxDets=100 ] = 0.000\n",
            " Average Precision  (AP) @[ IoU=0.50:0.95 | area=medium | maxDets=100 ] = 0.102\n",
            " Average Precision  (AP) @[ IoU=0.50:0.95 | area= large | maxDets=100 ] = 0.110\n",
            " Average Recall     (AR) @[ IoU=0.50:0.95 | area=   all | maxDets=  1 ] = 0.126\n",
            " Average Recall     (AR) @[ IoU=0.50:0.95 | area=   all | maxDets= 10 ] = 0.296\n",
            " Average Recall     (AR) @[ IoU=0.50:0.95 | area=   all | maxDets=100 ] = 0.343\n",
            " Average Recall     (AR) @[ IoU=0.50:0.95 | area= small | maxDets=100 ] = 0.000\n",
            " Average Recall     (AR) @[ IoU=0.50:0.95 | area=medium | maxDets=100 ] = 0.417\n",
            " Average Recall     (AR) @[ IoU=0.50:0.95 | area= large | maxDets=100 ] = 0.338\n",
            "43/43 [==============================] - 22s 512ms/step - det_loss: 0.9270 - cls_loss: 0.4958 - box_loss: 0.0086 - reg_l2_loss: 0.0633 - loss: 0.9903 - learning_rate: 0.0050 - gradient_norm: 6.7316 - val_det_loss: 1.0138 - val_cls_loss: 0.5194 - val_box_loss: 0.0099 - val_reg_l2_loss: 0.0634 - val_loss: 1.0771\n",
            "Epoch 6/100\n",
            "43/43 [==============================] - 16s 371ms/step - det_loss: 0.9251 - cls_loss: 0.4886 - box_loss: 0.0087 - reg_l2_loss: 0.0634 - loss: 0.9885 - learning_rate: 0.0050 - gradient_norm: 6.9940 - val_det_loss: 0.9997 - val_cls_loss: 0.4740 - val_box_loss: 0.0105 - val_reg_l2_loss: 0.0634 - val_loss: 1.0632\n",
            "Epoch 7/100\n",
            "43/43 [==============================] - 15s 345ms/step - det_loss: 0.8451 - cls_loss: 0.4423 - box_loss: 0.0081 - reg_l2_loss: 0.0635 - loss: 0.9086 - learning_rate: 0.0049 - gradient_norm: 7.3417 - val_det_loss: 1.0485 - val_cls_loss: 0.5691 - val_box_loss: 0.0096 - val_reg_l2_loss: 0.0636 - val_loss: 1.1120\n",
            "Epoch 8/100\n",
            "43/43 [==============================] - 15s 358ms/step - det_loss: 0.8478 - cls_loss: 0.4510 - box_loss: 0.0079 - reg_l2_loss: 0.0636 - loss: 0.9114 - learning_rate: 0.0049 - gradient_norm: 7.0822 - val_det_loss: 1.0898 - val_cls_loss: 0.6066 - val_box_loss: 0.0097 - val_reg_l2_loss: 0.0637 - val_loss: 1.1535\n",
            "Epoch 9/100\n",
            "43/43 [==============================] - 15s 362ms/step - det_loss: 0.9068 - cls_loss: 0.4731 - box_loss: 0.0087 - reg_l2_loss: 0.0637 - loss: 0.9705 - learning_rate: 0.0049 - gradient_norm: 7.5176 - val_det_loss: 1.2437 - val_cls_loss: 0.7209 - val_box_loss: 0.0105 - val_reg_l2_loss: 0.0638 - val_loss: 1.3075\n",
            "Epoch 10/100\n",
            "43/43 [==============================] - ETA: 0s - det_loss: 0.8375 - cls_loss: 0.4509 - box_loss: 0.0077 - reg_l2_loss: 0.0638 - loss: 0.9013 - learning_rate: 0.0049 - gradient_norm: 7.5267loading annotations into memory...\n",
            "Done (t=0.00s)\n",
            "creating index...\n",
            "index created!\n",
            "Loading and preparing results...\n",
            "Converting ndarray to lists...\n",
            "(2000, 7)\n",
            "0/2000\n",
            "DONE (t=0.01s)\n",
            "creating index...\n",
            "index created!\n",
            "Running per image evaluation...\n",
            "Evaluate annotation type *bbox*\n",
            "DONE (t=0.15s).\n",
            "Accumulating evaluation results...\n",
            "DONE (t=0.02s).\n",
            " Average Precision  (AP) @[ IoU=0.50:0.95 | area=   all | maxDets=100 ] = 0.119\n",
            " Average Precision  (AP) @[ IoU=0.50      | area=   all | maxDets=100 ] = 0.314\n",
            " Average Precision  (AP) @[ IoU=0.75      | area=   all | maxDets=100 ] = 0.056\n",
            " Average Precision  (AP) @[ IoU=0.50:0.95 | area= small | maxDets=100 ] = 0.001\n",
            " Average Precision  (AP) @[ IoU=0.50:0.95 | area=medium | maxDets=100 ] = 0.157\n",
            " Average Precision  (AP) @[ IoU=0.50:0.95 | area= large | maxDets=100 ] = 0.119\n",
            " Average Recall     (AR) @[ IoU=0.50:0.95 | area=   all | maxDets=  1 ] = 0.104\n",
            " Average Recall     (AR) @[ IoU=0.50:0.95 | area=   all | maxDets= 10 ] = 0.226\n",
            " Average Recall     (AR) @[ IoU=0.50:0.95 | area=   all | maxDets=100 ] = 0.261\n",
            " Average Recall     (AR) @[ IoU=0.50:0.95 | area= small | maxDets=100 ] = 0.100\n",
            " Average Recall     (AR) @[ IoU=0.50:0.95 | area=medium | maxDets=100 ] = 0.333\n",
            " Average Recall     (AR) @[ IoU=0.50:0.95 | area= large | maxDets=100 ] = 0.244\n",
            "43/43 [==============================] - 17s 397ms/step - det_loss: 0.8389 - cls_loss: 0.4536 - box_loss: 0.0077 - reg_l2_loss: 0.0638 - loss: 0.9027 - learning_rate: 0.0049 - gradient_norm: 7.5829 - val_det_loss: 1.0725 - val_cls_loss: 0.6722 - val_box_loss: 0.0080 - val_reg_l2_loss: 0.0639 - val_loss: 1.1364\n",
            "Epoch 11/100\n",
            "43/43 [==============================] - 15s 360ms/step - det_loss: 0.8012 - cls_loss: 0.4339 - box_loss: 0.0073 - reg_l2_loss: 0.0639 - loss: 0.8652 - learning_rate: 0.0049 - gradient_norm: 7.0327 - val_det_loss: 0.8557 - val_cls_loss: 0.4957 - val_box_loss: 0.0072 - val_reg_l2_loss: 0.0640 - val_loss: 0.9197\n",
            "Epoch 12/100\n",
            "43/43 [==============================] - 15s 352ms/step - det_loss: 0.7351 - cls_loss: 0.4023 - box_loss: 0.0067 - reg_l2_loss: 0.0640 - loss: 0.7991 - learning_rate: 0.0048 - gradient_norm: 7.5203 - val_det_loss: 0.8709 - val_cls_loss: 0.4966 - val_box_loss: 0.0075 - val_reg_l2_loss: 0.0641 - val_loss: 0.9349\n",
            "Epoch 13/100\n",
            "43/43 [==============================] - 16s 375ms/step - det_loss: 0.7657 - cls_loss: 0.4264 - box_loss: 0.0068 - reg_l2_loss: 0.0641 - loss: 0.8298 - learning_rate: 0.0048 - gradient_norm: 6.6574 - val_det_loss: 0.7971 - val_cls_loss: 0.4336 - val_box_loss: 0.0073 - val_reg_l2_loss: 0.0642 - val_loss: 0.8612\n",
            "Epoch 14/100\n",
            "43/43 [==============================] - 15s 352ms/step - det_loss: 0.7189 - cls_loss: 0.3741 - box_loss: 0.0069 - reg_l2_loss: 0.0642 - loss: 0.7831 - learning_rate: 0.0048 - gradient_norm: 6.4719 - val_det_loss: 0.9252 - val_cls_loss: 0.5258 - val_box_loss: 0.0080 - val_reg_l2_loss: 0.0642 - val_loss: 0.9894\n",
            "Epoch 15/100\n",
            "43/43 [==============================] - ETA: 0s - det_loss: 0.6770 - cls_loss: 0.3741 - box_loss: 0.0061 - reg_l2_loss: 0.0643 - loss: 0.7412 - learning_rate: 0.0047 - gradient_norm: 6.7770loading annotations into memory...\n",
            "Done (t=0.00s)\n",
            "creating index...\n",
            "index created!\n",
            "Loading and preparing results...\n",
            "Converting ndarray to lists...\n",
            "(2000, 7)\n",
            "0/2000\n",
            "DONE (t=0.01s)\n",
            "creating index...\n",
            "index created!\n",
            "Running per image evaluation...\n",
            "Evaluate annotation type *bbox*\n",
            "DONE (t=0.16s).\n",
            "Accumulating evaluation results...\n",
            "DONE (t=0.02s).\n",
            " Average Precision  (AP) @[ IoU=0.50:0.95 | area=   all | maxDets=100 ] = 0.087\n",
            " Average Precision  (AP) @[ IoU=0.50      | area=   all | maxDets=100 ] = 0.296\n",
            " Average Precision  (AP) @[ IoU=0.75      | area=   all | maxDets=100 ] = 0.001\n",
            " Average Precision  (AP) @[ IoU=0.50:0.95 | area= small | maxDets=100 ] = 0.000\n",
            " Average Precision  (AP) @[ IoU=0.50:0.95 | area=medium | maxDets=100 ] = 0.138\n",
            " Average Precision  (AP) @[ IoU=0.50:0.95 | area= large | maxDets=100 ] = 0.080\n",
            " Average Recall     (AR) @[ IoU=0.50:0.95 | area=   all | maxDets=  1 ] = 0.083\n",
            " Average Recall     (AR) @[ IoU=0.50:0.95 | area=   all | maxDets= 10 ] = 0.248\n",
            " Average Recall     (AR) @[ IoU=0.50:0.95 | area=   all | maxDets=100 ] = 0.322\n",
            " Average Recall     (AR) @[ IoU=0.50:0.95 | area= small | maxDets=100 ] = 0.000\n",
            " Average Recall     (AR) @[ IoU=0.50:0.95 | area=medium | maxDets=100 ] = 0.417\n",
            " Average Recall     (AR) @[ IoU=0.50:0.95 | area= large | maxDets=100 ] = 0.306\n",
            "43/43 [==============================] - 17s 396ms/step - det_loss: 0.6724 - cls_loss: 0.3719 - box_loss: 0.0060 - reg_l2_loss: 0.0643 - loss: 0.7367 - learning_rate: 0.0047 - gradient_norm: 6.7186 - val_det_loss: 1.0060 - val_cls_loss: 0.5800 - val_box_loss: 0.0085 - val_reg_l2_loss: 0.0643 - val_loss: 1.0703\n",
            "Epoch 16/100\n",
            "43/43 [==============================] - 16s 367ms/step - det_loss: 0.7008 - cls_loss: 0.3913 - box_loss: 0.0062 - reg_l2_loss: 0.0643 - loss: 0.7652 - learning_rate: 0.0047 - gradient_norm: 6.6538 - val_det_loss: 1.0806 - val_cls_loss: 0.6689 - val_box_loss: 0.0082 - val_reg_l2_loss: 0.0644 - val_loss: 1.1450\n",
            "Epoch 17/100\n",
            "43/43 [==============================] - 16s 377ms/step - det_loss: 0.7258 - cls_loss: 0.3934 - box_loss: 0.0066 - reg_l2_loss: 0.0644 - loss: 0.7902 - learning_rate: 0.0047 - gradient_norm: 6.9897 - val_det_loss: 0.7908 - val_cls_loss: 0.4547 - val_box_loss: 0.0067 - val_reg_l2_loss: 0.0645 - val_loss: 0.8553\n",
            "Epoch 18/100\n",
            "43/43 [==============================] - 15s 349ms/step - det_loss: 0.6854 - cls_loss: 0.3667 - box_loss: 0.0064 - reg_l2_loss: 0.0645 - loss: 0.7499 - learning_rate: 0.0046 - gradient_norm: 6.8107 - val_det_loss: 0.9483 - val_cls_loss: 0.5676 - val_box_loss: 0.0076 - val_reg_l2_loss: 0.0645 - val_loss: 1.0129\n",
            "Epoch 19/100\n",
            "43/43 [==============================] - 15s 359ms/step - det_loss: 0.6360 - cls_loss: 0.3426 - box_loss: 0.0059 - reg_l2_loss: 0.0646 - loss: 0.7006 - learning_rate: 0.0046 - gradient_norm: 6.5941 - val_det_loss: 0.7713 - val_cls_loss: 0.4542 - val_box_loss: 0.0063 - val_reg_l2_loss: 0.0646 - val_loss: 0.8359\n",
            "Epoch 20/100\n",
            "43/43 [==============================] - ETA: 0s - det_loss: 0.6407 - cls_loss: 0.3564 - box_loss: 0.0057 - reg_l2_loss: 0.0646 - loss: 0.7054 - learning_rate: 0.0045 - gradient_norm: 7.0050loading annotations into memory...\n",
            "Done (t=0.00s)\n",
            "creating index...\n",
            "index created!\n",
            "Loading and preparing results...\n",
            "Converting ndarray to lists...\n",
            "(2000, 7)\n",
            "0/2000\n",
            "DONE (t=0.01s)\n",
            "creating index...\n",
            "index created!\n",
            "Running per image evaluation...\n",
            "Evaluate annotation type *bbox*\n",
            "DONE (t=0.16s).\n",
            "Accumulating evaluation results...\n",
            "DONE (t=0.03s).\n",
            " Average Precision  (AP) @[ IoU=0.50:0.95 | area=   all | maxDets=100 ] = 0.248\n",
            " Average Precision  (AP) @[ IoU=0.50      | area=   all | maxDets=100 ] = 0.558\n",
            " Average Precision  (AP) @[ IoU=0.75      | area=   all | maxDets=100 ] = 0.110\n",
            " Average Precision  (AP) @[ IoU=0.50:0.95 | area= small | maxDets=100 ] = 0.000\n",
            " Average Precision  (AP) @[ IoU=0.50:0.95 | area=medium | maxDets=100 ] = 0.300\n",
            " Average Precision  (AP) @[ IoU=0.50:0.95 | area= large | maxDets=100 ] = 0.261\n",
            " Average Recall     (AR) @[ IoU=0.50:0.95 | area=   all | maxDets=  1 ] = 0.239\n",
            " Average Recall     (AR) @[ IoU=0.50:0.95 | area=   all | maxDets= 10 ] = 0.361\n",
            " Average Recall     (AR) @[ IoU=0.50:0.95 | area=   all | maxDets=100 ] = 0.457\n",
            " Average Recall     (AR) @[ IoU=0.50:0.95 | area= small | maxDets=100 ] = 0.000\n",
            " Average Recall     (AR) @[ IoU=0.50:0.95 | area=medium | maxDets=100 ] = 0.583\n",
            " Average Recall     (AR) @[ IoU=0.50:0.95 | area= large | maxDets=100 ] = 0.438\n",
            "43/43 [==============================] - 17s 405ms/step - det_loss: 0.6434 - cls_loss: 0.3586 - box_loss: 0.0057 - reg_l2_loss: 0.0646 - loss: 0.7080 - learning_rate: 0.0045 - gradient_norm: 6.9981 - val_det_loss: 0.6982 - val_cls_loss: 0.4164 - val_box_loss: 0.0056 - val_reg_l2_loss: 0.0647 - val_loss: 0.7629\n",
            "Epoch 21/100\n",
            "43/43 [==============================] - 16s 372ms/step - det_loss: 0.6067 - cls_loss: 0.3383 - box_loss: 0.0054 - reg_l2_loss: 0.0647 - loss: 0.6714 - learning_rate: 0.0045 - gradient_norm: 6.5314 - val_det_loss: 0.8462 - val_cls_loss: 0.4809 - val_box_loss: 0.0073 - val_reg_l2_loss: 0.0648 - val_loss: 0.9109\n",
            "Epoch 22/100\n",
            "43/43 [==============================] - 15s 345ms/step - det_loss: 0.6542 - cls_loss: 0.3570 - box_loss: 0.0059 - reg_l2_loss: 0.0648 - loss: 0.7190 - learning_rate: 0.0044 - gradient_norm: 6.6665 - val_det_loss: 0.7884 - val_cls_loss: 0.3810 - val_box_loss: 0.0081 - val_reg_l2_loss: 0.0648 - val_loss: 0.8533\n",
            "Epoch 23/100\n",
            "43/43 [==============================] - 15s 358ms/step - det_loss: 0.6105 - cls_loss: 0.3423 - box_loss: 0.0054 - reg_l2_loss: 0.0649 - loss: 0.6754 - learning_rate: 0.0044 - gradient_norm: 6.8505 - val_det_loss: 0.9361 - val_cls_loss: 0.5417 - val_box_loss: 0.0079 - val_reg_l2_loss: 0.0649 - val_loss: 1.0010\n",
            "Epoch 24/100\n",
            "43/43 [==============================] - 15s 358ms/step - det_loss: 0.6039 - cls_loss: 0.3370 - box_loss: 0.0053 - reg_l2_loss: 0.0649 - loss: 0.6688 - learning_rate: 0.0043 - gradient_norm: 6.5571 - val_det_loss: 0.8504 - val_cls_loss: 0.5053 - val_box_loss: 0.0069 - val_reg_l2_loss: 0.0650 - val_loss: 0.9154\n",
            "Epoch 25/100\n",
            "43/43 [==============================] - ETA: 0s - det_loss: 0.6583 - cls_loss: 0.3721 - box_loss: 0.0057 - reg_l2_loss: 0.0650 - loss: 0.7233 - learning_rate: 0.0043 - gradient_norm: 6.4233loading annotations into memory...\n",
            "Done (t=0.00s)\n",
            "creating index...\n",
            "index created!\n",
            "Loading and preparing results...\n",
            "Converting ndarray to lists...\n",
            "(2000, 7)\n",
            "0/2000\n",
            "DONE (t=0.02s)\n",
            "creating index...\n",
            "index created!\n",
            "Running per image evaluation...\n",
            "Evaluate annotation type *bbox*\n",
            "DONE (t=0.16s).\n",
            "Accumulating evaluation results...\n",
            "DONE (t=0.03s).\n",
            " Average Precision  (AP) @[ IoU=0.50:0.95 | area=   all | maxDets=100 ] = 0.150\n",
            " Average Precision  (AP) @[ IoU=0.50      | area=   all | maxDets=100 ] = 0.350\n",
            " Average Precision  (AP) @[ IoU=0.75      | area=   all | maxDets=100 ] = 0.108\n",
            " Average Precision  (AP) @[ IoU=0.50:0.95 | area= small | maxDets=100 ] = 0.000\n",
            " Average Precision  (AP) @[ IoU=0.50:0.95 | area=medium | maxDets=100 ] = 0.180\n",
            " Average Precision  (AP) @[ IoU=0.50:0.95 | area= large | maxDets=100 ] = 0.159\n",
            " Average Recall     (AR) @[ IoU=0.50:0.95 | area=   all | maxDets=  1 ] = 0.170\n",
            " Average Recall     (AR) @[ IoU=0.50:0.95 | area=   all | maxDets= 10 ] = 0.265\n",
            " Average Recall     (AR) @[ IoU=0.50:0.95 | area=   all | maxDets=100 ] = 0.343\n",
            " Average Recall     (AR) @[ IoU=0.50:0.95 | area= small | maxDets=100 ] = 0.000\n",
            " Average Recall     (AR) @[ IoU=0.50:0.95 | area=medium | maxDets=100 ] = 0.433\n",
            " Average Recall     (AR) @[ IoU=0.50:0.95 | area= large | maxDets=100 ] = 0.331\n",
            "43/43 [==============================] - 16s 381ms/step - det_loss: 0.6618 - cls_loss: 0.3742 - box_loss: 0.0058 - reg_l2_loss: 0.0650 - loss: 0.7268 - learning_rate: 0.0043 - gradient_norm: 6.5046 - val_det_loss: 0.9297 - val_cls_loss: 0.5184 - val_box_loss: 0.0082 - val_reg_l2_loss: 0.0650 - val_loss: 0.9948\n",
            "Epoch 26/100\n",
            "43/43 [==============================] - 15s 356ms/step - det_loss: 0.6119 - cls_loss: 0.3347 - box_loss: 0.0055 - reg_l2_loss: 0.0651 - loss: 0.6770 - learning_rate: 0.0042 - gradient_norm: 6.2100 - val_det_loss: 1.0326 - val_cls_loss: 0.6040 - val_box_loss: 0.0086 - val_reg_l2_loss: 0.0651 - val_loss: 1.0977\n",
            "Epoch 27/100\n",
            "43/43 [==============================] - 16s 372ms/step - det_loss: 0.6100 - cls_loss: 0.3490 - box_loss: 0.0052 - reg_l2_loss: 0.0651 - loss: 0.6751 - learning_rate: 0.0042 - gradient_norm: 6.6800 - val_det_loss: 0.7691 - val_cls_loss: 0.3996 - val_box_loss: 0.0074 - val_reg_l2_loss: 0.0651 - val_loss: 0.8343\n",
            "Epoch 28/100\n",
            "43/43 [==============================] - 15s 344ms/step - det_loss: 0.5616 - cls_loss: 0.3175 - box_loss: 0.0049 - reg_l2_loss: 0.0652 - loss: 0.6268 - learning_rate: 0.0041 - gradient_norm: 6.5904 - val_det_loss: 0.7897 - val_cls_loss: 0.4423 - val_box_loss: 0.0069 - val_reg_l2_loss: 0.0652 - val_loss: 0.8549\n",
            "Epoch 29/100\n",
            "43/43 [==============================] - 16s 372ms/step - det_loss: 0.5771 - cls_loss: 0.3338 - box_loss: 0.0049 - reg_l2_loss: 0.0652 - loss: 0.6424 - learning_rate: 0.0040 - gradient_norm: 6.3536 - val_det_loss: 0.9216 - val_cls_loss: 0.5059 - val_box_loss: 0.0083 - val_reg_l2_loss: 0.0653 - val_loss: 0.9868\n",
            "Epoch 30/100\n",
            "43/43 [==============================] - ETA: 0s - det_loss: 0.6080 - cls_loss: 0.3264 - box_loss: 0.0056 - reg_l2_loss: 0.0653 - loss: 0.6732 - learning_rate: 0.0040 - gradient_norm: 6.3992loading annotations into memory...\n",
            "Done (t=0.00s)\n",
            "creating index...\n",
            "index created!\n",
            "Loading and preparing results...\n",
            "Converting ndarray to lists...\n",
            "(2000, 7)\n",
            "0/2000\n",
            "DONE (t=0.01s)\n",
            "creating index...\n",
            "index created!\n",
            "Running per image evaluation...\n",
            "Evaluate annotation type *bbox*\n",
            "DONE (t=0.15s).\n",
            "Accumulating evaluation results...\n",
            "DONE (t=0.02s).\n",
            " Average Precision  (AP) @[ IoU=0.50:0.95 | area=   all | maxDets=100 ] = 0.147\n",
            " Average Precision  (AP) @[ IoU=0.50      | area=   all | maxDets=100 ] = 0.381\n",
            " Average Precision  (AP) @[ IoU=0.75      | area=   all | maxDets=100 ] = 0.114\n",
            " Average Precision  (AP) @[ IoU=0.50:0.95 | area= small | maxDets=100 ] = 0.000\n",
            " Average Precision  (AP) @[ IoU=0.50:0.95 | area=medium | maxDets=100 ] = 0.233\n",
            " Average Precision  (AP) @[ IoU=0.50:0.95 | area= large | maxDets=100 ] = 0.136\n",
            " Average Recall     (AR) @[ IoU=0.50:0.95 | area=   all | maxDets=  1 ] = 0.191\n",
            " Average Recall     (AR) @[ IoU=0.50:0.95 | area=   all | maxDets= 10 ] = 0.300\n",
            " Average Recall     (AR) @[ IoU=0.50:0.95 | area=   all | maxDets=100 ] = 0.391\n",
            " Average Recall     (AR) @[ IoU=0.50:0.95 | area= small | maxDets=100 ] = 0.000\n",
            " Average Recall     (AR) @[ IoU=0.50:0.95 | area=medium | maxDets=100 ] = 0.417\n",
            " Average Recall     (AR) @[ IoU=0.50:0.95 | area= large | maxDets=100 ] = 0.406\n",
            "43/43 [==============================] - 17s 404ms/step - det_loss: 0.6069 - cls_loss: 0.3260 - box_loss: 0.0056 - reg_l2_loss: 0.0653 - loss: 0.6722 - learning_rate: 0.0040 - gradient_norm: 6.4810 - val_det_loss: 0.7431 - val_cls_loss: 0.4403 - val_box_loss: 0.0061 - val_reg_l2_loss: 0.0653 - val_loss: 0.8084\n",
            "Epoch 31/100\n",
            "43/43 [==============================] - 15s 355ms/step - det_loss: 0.5439 - cls_loss: 0.3193 - box_loss: 0.0045 - reg_l2_loss: 0.0653 - loss: 0.6092 - learning_rate: 0.0039 - gradient_norm: 5.6965 - val_det_loss: 1.0388 - val_cls_loss: 0.6245 - val_box_loss: 0.0083 - val_reg_l2_loss: 0.0654 - val_loss: 1.1041\n",
            "Epoch 32/100\n",
            "43/43 [==============================] - 15s 353ms/step - det_loss: 0.5360 - cls_loss: 0.3161 - box_loss: 0.0044 - reg_l2_loss: 0.0654 - loss: 0.6013 - learning_rate: 0.0039 - gradient_norm: 6.0059 - val_det_loss: 0.8708 - val_cls_loss: 0.4852 - val_box_loss: 0.0077 - val_reg_l2_loss: 0.0654 - val_loss: 0.9362\n",
            "Epoch 33/100\n",
            "43/43 [==============================] - 15s 346ms/step - det_loss: 0.5367 - cls_loss: 0.3027 - box_loss: 0.0047 - reg_l2_loss: 0.0654 - loss: 0.6021 - learning_rate: 0.0038 - gradient_norm: 5.6942 - val_det_loss: 1.0310 - val_cls_loss: 0.6243 - val_box_loss: 0.0081 - val_reg_l2_loss: 0.0654 - val_loss: 1.0964\n",
            "Epoch 34/100\n",
            "43/43 [==============================] - 16s 364ms/step - det_loss: 0.5558 - cls_loss: 0.3189 - box_loss: 0.0047 - reg_l2_loss: 0.0654 - loss: 0.6212 - learning_rate: 0.0037 - gradient_norm: 5.8363 - val_det_loss: 0.9232 - val_cls_loss: 0.5263 - val_box_loss: 0.0079 - val_reg_l2_loss: 0.0655 - val_loss: 0.9887\n",
            "Epoch 35/100\n",
            "43/43 [==============================] - ETA: 0s - det_loss: 0.5464 - cls_loss: 0.3037 - box_loss: 0.0049 - reg_l2_loss: 0.0655 - loss: 0.6119 - learning_rate: 0.0036 - gradient_norm: 5.6557loading annotations into memory...\n",
            "Done (t=0.00s)\n",
            "creating index...\n",
            "index created!\n",
            "Loading and preparing results...\n",
            "Converting ndarray to lists...\n",
            "(2000, 7)\n",
            "0/2000\n",
            "DONE (t=0.01s)\n",
            "creating index...\n",
            "index created!\n",
            "Running per image evaluation...\n",
            "Evaluate annotation type *bbox*\n",
            "DONE (t=0.16s).\n",
            "Accumulating evaluation results...\n",
            "DONE (t=0.03s).\n",
            " Average Precision  (AP) @[ IoU=0.50:0.95 | area=   all | maxDets=100 ] = 0.290\n",
            " Average Precision  (AP) @[ IoU=0.50      | area=   all | maxDets=100 ] = 0.577\n",
            " Average Precision  (AP) @[ IoU=0.75      | area=   all | maxDets=100 ] = 0.343\n",
            " Average Precision  (AP) @[ IoU=0.50:0.95 | area= small | maxDets=100 ] = 0.056\n",
            " Average Precision  (AP) @[ IoU=0.50:0.95 | area=medium | maxDets=100 ] = 0.387\n",
            " Average Precision  (AP) @[ IoU=0.50:0.95 | area= large | maxDets=100 ] = 0.282\n",
            " Average Recall     (AR) @[ IoU=0.50:0.95 | area=   all | maxDets=  1 ] = 0.339\n",
            " Average Recall     (AR) @[ IoU=0.50:0.95 | area=   all | maxDets= 10 ] = 0.465\n",
            " Average Recall     (AR) @[ IoU=0.50:0.95 | area=   all | maxDets=100 ] = 0.504\n",
            " Average Recall     (AR) @[ IoU=0.50:0.95 | area= small | maxDets=100 ] = 0.300\n",
            " Average Recall     (AR) @[ IoU=0.50:0.95 | area=medium | maxDets=100 ] = 0.567\n",
            " Average Recall     (AR) @[ IoU=0.50:0.95 | area= large | maxDets=100 ] = 0.494\n",
            "43/43 [==============================] - 17s 406ms/step - det_loss: 0.5477 - cls_loss: 0.3027 - box_loss: 0.0049 - reg_l2_loss: 0.0655 - loss: 0.6132 - learning_rate: 0.0036 - gradient_norm: 5.6673 - val_det_loss: 0.8514 - val_cls_loss: 0.4920 - val_box_loss: 0.0072 - val_reg_l2_loss: 0.0655 - val_loss: 0.9169\n",
            "Epoch 36/100\n",
            "43/43 [==============================] - 16s 365ms/step - det_loss: 0.5357 - cls_loss: 0.3004 - box_loss: 0.0047 - reg_l2_loss: 0.0655 - loss: 0.6012 - learning_rate: 0.0036 - gradient_norm: 5.8002 - val_det_loss: 0.8131 - val_cls_loss: 0.4349 - val_box_loss: 0.0076 - val_reg_l2_loss: 0.0655 - val_loss: 0.8787\n",
            "Epoch 37/100\n",
            "43/43 [==============================] - 15s 351ms/step - det_loss: 0.5155 - cls_loss: 0.3046 - box_loss: 0.0042 - reg_l2_loss: 0.0655 - loss: 0.5810 - learning_rate: 0.0035 - gradient_norm: 5.9997 - val_det_loss: 0.7143 - val_cls_loss: 0.4088 - val_box_loss: 0.0061 - val_reg_l2_loss: 0.0656 - val_loss: 0.7798\n",
            "Epoch 38/100\n",
            "43/43 [==============================] - 15s 354ms/step - det_loss: 0.4833 - cls_loss: 0.2719 - box_loss: 0.0042 - reg_l2_loss: 0.0656 - loss: 0.5489 - learning_rate: 0.0034 - gradient_norm: 5.6888 - val_det_loss: 0.8833 - val_cls_loss: 0.5521 - val_box_loss: 0.0066 - val_reg_l2_loss: 0.0656 - val_loss: 0.9488\n",
            "Epoch 39/100\n",
            "43/43 [==============================] - 16s 367ms/step - det_loss: 0.4888 - cls_loss: 0.2719 - box_loss: 0.0043 - reg_l2_loss: 0.0656 - loss: 0.5544 - learning_rate: 0.0034 - gradient_norm: 5.8549 - val_det_loss: 0.9610 - val_cls_loss: 0.5738 - val_box_loss: 0.0077 - val_reg_l2_loss: 0.0656 - val_loss: 1.0267\n",
            "Epoch 40/100\n",
            "43/43 [==============================] - ETA: 0s - det_loss: 0.4999 - cls_loss: 0.2878 - box_loss: 0.0042 - reg_l2_loss: 0.0656 - loss: 0.5655 - learning_rate: 0.0033 - gradient_norm: 6.3187loading annotations into memory...\n",
            "Done (t=0.00s)\n",
            "creating index...\n",
            "index created!\n",
            "Loading and preparing results...\n",
            "Converting ndarray to lists...\n",
            "(2000, 7)\n",
            "0/2000\n",
            "DONE (t=0.01s)\n",
            "creating index...\n",
            "index created!\n",
            "Running per image evaluation...\n",
            "Evaluate annotation type *bbox*\n",
            "DONE (t=0.15s).\n",
            "Accumulating evaluation results...\n",
            "DONE (t=0.02s).\n",
            " Average Precision  (AP) @[ IoU=0.50:0.95 | area=   all | maxDets=100 ] = 0.268\n",
            " Average Precision  (AP) @[ IoU=0.50      | area=   all | maxDets=100 ] = 0.560\n",
            " Average Precision  (AP) @[ IoU=0.75      | area=   all | maxDets=100 ] = 0.164\n",
            " Average Precision  (AP) @[ IoU=0.50:0.95 | area= small | maxDets=100 ] = 0.002\n",
            " Average Precision  (AP) @[ IoU=0.50:0.95 | area=medium | maxDets=100 ] = 0.345\n",
            " Average Precision  (AP) @[ IoU=0.50:0.95 | area= large | maxDets=100 ] = 0.288\n",
            " Average Recall     (AR) @[ IoU=0.50:0.95 | area=   all | maxDets=  1 ] = 0.283\n",
            " Average Recall     (AR) @[ IoU=0.50:0.95 | area=   all | maxDets= 10 ] = 0.387\n",
            " Average Recall     (AR) @[ IoU=0.50:0.95 | area=   all | maxDets=100 ] = 0.413\n",
            " Average Recall     (AR) @[ IoU=0.50:0.95 | area= small | maxDets=100 ] = 0.100\n",
            " Average Recall     (AR) @[ IoU=0.50:0.95 | area=medium | maxDets=100 ] = 0.533\n",
            " Average Recall     (AR) @[ IoU=0.50:0.95 | area= large | maxDets=100 ] = 0.388\n",
            "43/43 [==============================] - 17s 388ms/step - det_loss: 0.5017 - cls_loss: 0.2872 - box_loss: 0.0043 - reg_l2_loss: 0.0656 - loss: 0.5673 - learning_rate: 0.0033 - gradient_norm: 6.3336 - val_det_loss: 0.6855 - val_cls_loss: 0.3973 - val_box_loss: 0.0058 - val_reg_l2_loss: 0.0657 - val_loss: 0.7511\n",
            "Epoch 41/100\n",
            "43/43 [==============================] - 15s 356ms/step - det_loss: 0.5044 - cls_loss: 0.2750 - box_loss: 0.0046 - reg_l2_loss: 0.0657 - loss: 0.5700 - learning_rate: 0.0032 - gradient_norm: 5.6329 - val_det_loss: 0.7520 - val_cls_loss: 0.4564 - val_box_loss: 0.0059 - val_reg_l2_loss: 0.0657 - val_loss: 0.8177\n",
            "Epoch 42/100\n",
            "43/43 [==============================] - 15s 354ms/step - det_loss: 0.4616 - cls_loss: 0.2712 - box_loss: 0.0038 - reg_l2_loss: 0.0657 - loss: 0.5273 - learning_rate: 0.0031 - gradient_norm: 5.1392 - val_det_loss: 0.8598 - val_cls_loss: 0.5082 - val_box_loss: 0.0070 - val_reg_l2_loss: 0.0657 - val_loss: 0.9255\n",
            "Epoch 43/100\n",
            "43/43 [==============================] - 16s 365ms/step - det_loss: 0.4738 - cls_loss: 0.2659 - box_loss: 0.0042 - reg_l2_loss: 0.0657 - loss: 0.5395 - learning_rate: 0.0031 - gradient_norm: 5.5570 - val_det_loss: 0.7106 - val_cls_loss: 0.3723 - val_box_loss: 0.0068 - val_reg_l2_loss: 0.0657 - val_loss: 0.7763\n",
            "Epoch 44/100\n",
            "43/43 [==============================] - 16s 364ms/step - det_loss: 0.4578 - cls_loss: 0.2743 - box_loss: 0.0037 - reg_l2_loss: 0.0657 - loss: 0.5235 - learning_rate: 0.0030 - gradient_norm: 5.3572 - val_det_loss: 0.6991 - val_cls_loss: 0.4141 - val_box_loss: 0.0057 - val_reg_l2_loss: 0.0657 - val_loss: 0.7649\n",
            "Epoch 45/100\n",
            "43/43 [==============================] - ETA: 0s - det_loss: 0.4766 - cls_loss: 0.2642 - box_loss: 0.0042 - reg_l2_loss: 0.0657 - loss: 0.5423 - learning_rate: 0.0029 - gradient_norm: 6.0055loading annotations into memory...\n",
            "Done (t=0.00s)\n",
            "creating index...\n",
            "index created!\n",
            "Loading and preparing results...\n",
            "Converting ndarray to lists...\n",
            "(2000, 7)\n",
            "0/2000\n",
            "DONE (t=0.01s)\n",
            "creating index...\n",
            "index created!\n",
            "Running per image evaluation...\n",
            "Evaluate annotation type *bbox*\n",
            "DONE (t=0.15s).\n",
            "Accumulating evaluation results...\n",
            "DONE (t=0.02s).\n",
            " Average Precision  (AP) @[ IoU=0.50:0.95 | area=   all | maxDets=100 ] = 0.306\n",
            " Average Precision  (AP) @[ IoU=0.50      | area=   all | maxDets=100 ] = 0.701\n",
            " Average Precision  (AP) @[ IoU=0.75      | area=   all | maxDets=100 ] = 0.272\n",
            " Average Precision  (AP) @[ IoU=0.50:0.95 | area= small | maxDets=100 ] = 0.000\n",
            " Average Precision  (AP) @[ IoU=0.50:0.95 | area=medium | maxDets=100 ] = 0.472\n",
            " Average Precision  (AP) @[ IoU=0.50:0.95 | area= large | maxDets=100 ] = 0.284\n",
            " Average Recall     (AR) @[ IoU=0.50:0.95 | area=   all | maxDets=  1 ] = 0.309\n",
            " Average Recall     (AR) @[ IoU=0.50:0.95 | area=   all | maxDets= 10 ] = 0.448\n",
            " Average Recall     (AR) @[ IoU=0.50:0.95 | area=   all | maxDets=100 ] = 0.513\n",
            " Average Recall     (AR) @[ IoU=0.50:0.95 | area= small | maxDets=100 ] = 0.000\n",
            " Average Recall     (AR) @[ IoU=0.50:0.95 | area=medium | maxDets=100 ] = 0.633\n",
            " Average Recall     (AR) @[ IoU=0.50:0.95 | area= large | maxDets=100 ] = 0.500\n",
            "43/43 [==============================] - 17s 392ms/step - det_loss: 0.4785 - cls_loss: 0.2640 - box_loss: 0.0043 - reg_l2_loss: 0.0657 - loss: 0.5443 - learning_rate: 0.0029 - gradient_norm: 5.9951 - val_det_loss: 0.7349 - val_cls_loss: 0.3938 - val_box_loss: 0.0068 - val_reg_l2_loss: 0.0658 - val_loss: 0.8007\n",
            "Epoch 46/100\n",
            "43/43 [==============================] - 16s 369ms/step - det_loss: 0.4003 - cls_loss: 0.2304 - box_loss: 0.0034 - reg_l2_loss: 0.0658 - loss: 0.4661 - learning_rate: 0.0028 - gradient_norm: 5.0453 - val_det_loss: 0.8407 - val_cls_loss: 0.5114 - val_box_loss: 0.0066 - val_reg_l2_loss: 0.0658 - val_loss: 0.9065\n",
            "Epoch 47/100\n",
            "43/43 [==============================] - 15s 359ms/step - det_loss: 0.4855 - cls_loss: 0.2733 - box_loss: 0.0042 - reg_l2_loss: 0.0658 - loss: 0.5513 - learning_rate: 0.0027 - gradient_norm: 6.0578 - val_det_loss: 0.8279 - val_cls_loss: 0.4931 - val_box_loss: 0.0067 - val_reg_l2_loss: 0.0658 - val_loss: 0.8937\n",
            "Epoch 48/100\n",
            "43/43 [==============================] - 15s 352ms/step - det_loss: 0.4711 - cls_loss: 0.2736 - box_loss: 0.0039 - reg_l2_loss: 0.0658 - loss: 0.5369 - learning_rate: 0.0027 - gradient_norm: 5.5301 - val_det_loss: 0.8160 - val_cls_loss: 0.4698 - val_box_loss: 0.0069 - val_reg_l2_loss: 0.0658 - val_loss: 0.8818\n",
            "Epoch 49/100\n",
            "43/43 [==============================] - 16s 372ms/step - det_loss: 0.4751 - cls_loss: 0.2581 - box_loss: 0.0043 - reg_l2_loss: 0.0658 - loss: 0.5409 - learning_rate: 0.0026 - gradient_norm: 5.5664 - val_det_loss: 0.8952 - val_cls_loss: 0.5355 - val_box_loss: 0.0072 - val_reg_l2_loss: 0.0658 - val_loss: 0.9610\n",
            "Epoch 50/100\n",
            "43/43 [==============================] - ETA: 0s - det_loss: 0.4659 - cls_loss: 0.2585 - box_loss: 0.0041 - reg_l2_loss: 0.0658 - loss: 0.5317 - learning_rate: 0.0025 - gradient_norm: 5.5228loading annotations into memory...\n",
            "Done (t=0.00s)\n",
            "creating index...\n",
            "index created!\n",
            "Loading and preparing results...\n",
            "Converting ndarray to lists...\n",
            "(2000, 7)\n",
            "0/2000\n",
            "DONE (t=0.01s)\n",
            "creating index...\n",
            "index created!\n",
            "Running per image evaluation...\n",
            "Evaluate annotation type *bbox*\n",
            "DONE (t=0.14s).\n",
            "Accumulating evaluation results...\n",
            "DONE (t=0.02s).\n",
            " Average Precision  (AP) @[ IoU=0.50:0.95 | area=   all | maxDets=100 ] = 0.312\n",
            " Average Precision  (AP) @[ IoU=0.50      | area=   all | maxDets=100 ] = 0.735\n",
            " Average Precision  (AP) @[ IoU=0.75      | area=   all | maxDets=100 ] = 0.153\n",
            " Average Precision  (AP) @[ IoU=0.50:0.95 | area= small | maxDets=100 ] = 0.000\n",
            " Average Precision  (AP) @[ IoU=0.50:0.95 | area=medium | maxDets=100 ] = 0.478\n",
            " Average Precision  (AP) @[ IoU=0.50:0.95 | area= large | maxDets=100 ] = 0.297\n",
            " Average Recall     (AR) @[ IoU=0.50:0.95 | area=   all | maxDets=  1 ] = 0.335\n",
            " Average Recall     (AR) @[ IoU=0.50:0.95 | area=   all | maxDets= 10 ] = 0.461\n",
            " Average Recall     (AR) @[ IoU=0.50:0.95 | area=   all | maxDets=100 ] = 0.517\n",
            " Average Recall     (AR) @[ IoU=0.50:0.95 | area= small | maxDets=100 ] = 0.000\n",
            " Average Recall     (AR) @[ IoU=0.50:0.95 | area=medium | maxDets=100 ] = 0.633\n",
            " Average Recall     (AR) @[ IoU=0.50:0.95 | area= large | maxDets=100 ] = 0.506\n",
            "43/43 [==============================] - 17s 406ms/step - det_loss: 0.4624 - cls_loss: 0.2564 - box_loss: 0.0041 - reg_l2_loss: 0.0658 - loss: 0.5283 - learning_rate: 0.0025 - gradient_norm: 5.5212 - val_det_loss: 0.8253 - val_cls_loss: 0.4524 - val_box_loss: 0.0075 - val_reg_l2_loss: 0.0658 - val_loss: 0.8912\n",
            "Epoch 51/100\n",
            "43/43 [==============================] - 16s 376ms/step - det_loss: 0.3712 - cls_loss: 0.2183 - box_loss: 0.0031 - reg_l2_loss: 0.0658 - loss: 0.4370 - learning_rate: 0.0024 - gradient_norm: 4.7822 - val_det_loss: 0.7957 - val_cls_loss: 0.4409 - val_box_loss: 0.0071 - val_reg_l2_loss: 0.0658 - val_loss: 0.8615\n",
            "Epoch 52/100\n",
            "43/43 [==============================] - 15s 360ms/step - det_loss: 0.4137 - cls_loss: 0.2395 - box_loss: 0.0035 - reg_l2_loss: 0.0658 - loss: 0.4796 - learning_rate: 0.0023 - gradient_norm: 5.2319 - val_det_loss: 0.9306 - val_cls_loss: 0.5677 - val_box_loss: 0.0073 - val_reg_l2_loss: 0.0659 - val_loss: 0.9964\n",
            "Epoch 53/100\n",
            "43/43 [==============================] - 16s 365ms/step - det_loss: 0.4000 - cls_loss: 0.2347 - box_loss: 0.0033 - reg_l2_loss: 0.0659 - loss: 0.4658 - learning_rate: 0.0023 - gradient_norm: 5.3490 - val_det_loss: 0.9057 - val_cls_loss: 0.4925 - val_box_loss: 0.0083 - val_reg_l2_loss: 0.0659 - val_loss: 0.9715\n",
            "Epoch 54/100\n",
            "43/43 [==============================] - 16s 361ms/step - det_loss: 0.4223 - cls_loss: 0.2397 - box_loss: 0.0037 - reg_l2_loss: 0.0659 - loss: 0.4881 - learning_rate: 0.0022 - gradient_norm: 5.5908 - val_det_loss: 0.9715 - val_cls_loss: 0.5596 - val_box_loss: 0.0082 - val_reg_l2_loss: 0.0659 - val_loss: 1.0373\n",
            "Epoch 55/100\n",
            "43/43 [==============================] - ETA: 0s - det_loss: 0.4225 - cls_loss: 0.2493 - box_loss: 0.0035 - reg_l2_loss: 0.0659 - loss: 0.4883 - learning_rate: 0.0021 - gradient_norm: 5.8556loading annotations into memory...\n",
            "Done (t=0.00s)\n",
            "creating index...\n",
            "index created!\n",
            "Loading and preparing results...\n",
            "Converting ndarray to lists...\n",
            "(2000, 7)\n",
            "0/2000\n",
            "DONE (t=0.01s)\n",
            "creating index...\n",
            "index created!\n",
            "Running per image evaluation...\n",
            "Evaluate annotation type *bbox*\n",
            "DONE (t=0.15s).\n",
            "Accumulating evaluation results...\n",
            "DONE (t=0.02s).\n",
            " Average Precision  (AP) @[ IoU=0.50:0.95 | area=   all | maxDets=100 ] = 0.344\n",
            " Average Precision  (AP) @[ IoU=0.50      | area=   all | maxDets=100 ] = 0.733\n",
            " Average Precision  (AP) @[ IoU=0.75      | area=   all | maxDets=100 ] = 0.275\n",
            " Average Precision  (AP) @[ IoU=0.50:0.95 | area= small | maxDets=100 ] = 0.000\n",
            " Average Precision  (AP) @[ IoU=0.50:0.95 | area=medium | maxDets=100 ] = 0.482\n",
            " Average Precision  (AP) @[ IoU=0.50:0.95 | area= large | maxDets=100 ] = 0.348\n",
            " Average Recall     (AR) @[ IoU=0.50:0.95 | area=   all | maxDets=  1 ] = 0.383\n",
            " Average Recall     (AR) @[ IoU=0.50:0.95 | area=   all | maxDets= 10 ] = 0.470\n",
            " Average Recall     (AR) @[ IoU=0.50:0.95 | area=   all | maxDets=100 ] = 0.496\n",
            " Average Recall     (AR) @[ IoU=0.50:0.95 | area= small | maxDets=100 ] = 0.000\n",
            " Average Recall     (AR) @[ IoU=0.50:0.95 | area=medium | maxDets=100 ] = 0.617\n",
            " Average Recall     (AR) @[ IoU=0.50:0.95 | area= large | maxDets=100 ] = 0.481\n",
            "43/43 [==============================] - 17s 402ms/step - det_loss: 0.4225 - cls_loss: 0.2490 - box_loss: 0.0035 - reg_l2_loss: 0.0659 - loss: 0.4883 - learning_rate: 0.0021 - gradient_norm: 5.8983 - val_det_loss: 0.8436 - val_cls_loss: 0.5116 - val_box_loss: 0.0066 - val_reg_l2_loss: 0.0659 - val_loss: 0.9094\n",
            "Epoch 56/100\n",
            "43/43 [==============================] - 15s 356ms/step - det_loss: 0.4100 - cls_loss: 0.2374 - box_loss: 0.0035 - reg_l2_loss: 0.0659 - loss: 0.4759 - learning_rate: 0.0020 - gradient_norm: 5.1488 - val_det_loss: 0.8277 - val_cls_loss: 0.4842 - val_box_loss: 0.0069 - val_reg_l2_loss: 0.0659 - val_loss: 0.8936\n",
            "Epoch 57/100\n",
            "43/43 [==============================] - 15s 356ms/step - det_loss: 0.4424 - cls_loss: 0.2436 - box_loss: 0.0040 - reg_l2_loss: 0.0659 - loss: 0.5083 - learning_rate: 0.0019 - gradient_norm: 5.3893 - val_det_loss: 0.7596 - val_cls_loss: 0.4639 - val_box_loss: 0.0059 - val_reg_l2_loss: 0.0659 - val_loss: 0.8255\n",
            "Epoch 58/100\n",
            "43/43 [==============================] - 16s 369ms/step - det_loss: 0.3794 - cls_loss: 0.2241 - box_loss: 0.0031 - reg_l2_loss: 0.0659 - loss: 0.4453 - learning_rate: 0.0019 - gradient_norm: 5.1718 - val_det_loss: 0.7049 - val_cls_loss: 0.4159 - val_box_loss: 0.0058 - val_reg_l2_loss: 0.0659 - val_loss: 0.7708\n",
            "Epoch 59/100\n",
            "43/43 [==============================] - 16s 369ms/step - det_loss: 0.3862 - cls_loss: 0.2309 - box_loss: 0.0031 - reg_l2_loss: 0.0659 - loss: 0.4521 - learning_rate: 0.0018 - gradient_norm: 4.9663 - val_det_loss: 0.7022 - val_cls_loss: 0.4258 - val_box_loss: 0.0055 - val_reg_l2_loss: 0.0659 - val_loss: 0.7681\n",
            "Epoch 60/100\n",
            "43/43 [==============================] - ETA: 0s - det_loss: 0.4119 - cls_loss: 0.2431 - box_loss: 0.0034 - reg_l2_loss: 0.0659 - loss: 0.4778 - learning_rate: 0.0017 - gradient_norm: 5.0319loading annotations into memory...\n",
            "Done (t=0.00s)\n",
            "creating index...\n",
            "index created!\n",
            "Loading and preparing results...\n",
            "Converting ndarray to lists...\n",
            "(2000, 7)\n",
            "0/2000\n",
            "DONE (t=0.01s)\n",
            "creating index...\n",
            "index created!\n",
            "Running per image evaluation...\n",
            "Evaluate annotation type *bbox*\n",
            "DONE (t=0.14s).\n",
            "Accumulating evaluation results...\n",
            "DONE (t=0.02s).\n",
            " Average Precision  (AP) @[ IoU=0.50:0.95 | area=   all | maxDets=100 ] = 0.351\n",
            " Average Precision  (AP) @[ IoU=0.50      | area=   all | maxDets=100 ] = 0.730\n",
            " Average Precision  (AP) @[ IoU=0.75      | area=   all | maxDets=100 ] = 0.358\n",
            " Average Precision  (AP) @[ IoU=0.50:0.95 | area= small | maxDets=100 ] = 0.000\n",
            " Average Precision  (AP) @[ IoU=0.50:0.95 | area=medium | maxDets=100 ] = 0.615\n",
            " Average Precision  (AP) @[ IoU=0.50:0.95 | area= large | maxDets=100 ] = 0.334\n",
            " Average Recall     (AR) @[ IoU=0.50:0.95 | area=   all | maxDets=  1 ] = 0.387\n",
            " Average Recall     (AR) @[ IoU=0.50:0.95 | area=   all | maxDets= 10 ] = 0.487\n",
            " Average Recall     (AR) @[ IoU=0.50:0.95 | area=   all | maxDets=100 ] = 0.504\n",
            " Average Recall     (AR) @[ IoU=0.50:0.95 | area= small | maxDets=100 ] = 0.000\n",
            " Average Recall     (AR) @[ IoU=0.50:0.95 | area=medium | maxDets=100 ] = 0.650\n",
            " Average Recall     (AR) @[ IoU=0.50:0.95 | area= large | maxDets=100 ] = 0.481\n",
            "43/43 [==============================] - 17s 404ms/step - det_loss: 0.4144 - cls_loss: 0.2449 - box_loss: 0.0034 - reg_l2_loss: 0.0659 - loss: 0.4804 - learning_rate: 0.0017 - gradient_norm: 5.0504 - val_det_loss: 0.7918 - val_cls_loss: 0.4764 - val_box_loss: 0.0063 - val_reg_l2_loss: 0.0659 - val_loss: 0.8578\n",
            "Epoch 61/100\n",
            "43/43 [==============================] - 15s 352ms/step - det_loss: 0.3814 - cls_loss: 0.2302 - box_loss: 0.0030 - reg_l2_loss: 0.0659 - loss: 0.4473 - learning_rate: 0.0016 - gradient_norm: 5.1578 - val_det_loss: 0.7572 - val_cls_loss: 0.4595 - val_box_loss: 0.0060 - val_reg_l2_loss: 0.0659 - val_loss: 0.8231\n",
            "Epoch 62/100\n",
            "43/43 [==============================] - 16s 374ms/step - det_loss: 0.3450 - cls_loss: 0.2109 - box_loss: 0.0027 - reg_l2_loss: 0.0659 - loss: 0.4109 - learning_rate: 0.0016 - gradient_norm: 4.7341 - val_det_loss: 0.8298 - val_cls_loss: 0.5037 - val_box_loss: 0.0065 - val_reg_l2_loss: 0.0659 - val_loss: 0.8957\n",
            "Epoch 63/100\n",
            "43/43 [==============================] - 15s 356ms/step - det_loss: 0.3706 - cls_loss: 0.2217 - box_loss: 0.0030 - reg_l2_loss: 0.0659 - loss: 0.4366 - learning_rate: 0.0015 - gradient_norm: 5.3536 - val_det_loss: 0.6961 - val_cls_loss: 0.4080 - val_box_loss: 0.0058 - val_reg_l2_loss: 0.0659 - val_loss: 0.7620\n",
            "Epoch 64/100\n",
            "43/43 [==============================] - 15s 351ms/step - det_loss: 0.3485 - cls_loss: 0.2153 - box_loss: 0.0027 - reg_l2_loss: 0.0659 - loss: 0.4144 - learning_rate: 0.0014 - gradient_norm: 5.1869 - val_det_loss: 0.6257 - val_cls_loss: 0.3624 - val_box_loss: 0.0053 - val_reg_l2_loss: 0.0659 - val_loss: 0.6917\n",
            "Epoch 65/100\n",
            "43/43 [==============================] - ETA: 0s - det_loss: 0.3266 - cls_loss: 0.1955 - box_loss: 0.0026 - reg_l2_loss: 0.0659 - loss: 0.3925 - learning_rate: 0.0014 - gradient_norm: 4.7606loading annotations into memory...\n",
            "Done (t=0.00s)\n",
            "creating index...\n",
            "index created!\n",
            "Loading and preparing results...\n",
            "Converting ndarray to lists...\n",
            "(2000, 7)\n",
            "0/2000\n",
            "DONE (t=0.01s)\n",
            "creating index...\n",
            "index created!\n",
            "Running per image evaluation...\n",
            "Evaluate annotation type *bbox*\n",
            "DONE (t=0.15s).\n",
            "Accumulating evaluation results...\n",
            "DONE (t=0.02s).\n",
            " Average Precision  (AP) @[ IoU=0.50:0.95 | area=   all | maxDets=100 ] = 0.408\n",
            " Average Precision  (AP) @[ IoU=0.50      | area=   all | maxDets=100 ] = 0.768\n",
            " Average Precision  (AP) @[ IoU=0.75      | area=   all | maxDets=100 ] = 0.430\n",
            " Average Precision  (AP) @[ IoU=0.50:0.95 | area= small | maxDets=100 ] = 0.000\n",
            " Average Precision  (AP) @[ IoU=0.50:0.95 | area=medium | maxDets=100 ] = 0.618\n",
            " Average Precision  (AP) @[ IoU=0.50:0.95 | area= large | maxDets=100 ] = 0.392\n",
            " Average Recall     (AR) @[ IoU=0.50:0.95 | area=   all | maxDets=  1 ] = 0.448\n",
            " Average Recall     (AR) @[ IoU=0.50:0.95 | area=   all | maxDets= 10 ] = 0.548\n",
            " Average Recall     (AR) @[ IoU=0.50:0.95 | area=   all | maxDets=100 ] = 0.548\n",
            " Average Recall     (AR) @[ IoU=0.50:0.95 | area= small | maxDets=100 ] = 0.000\n",
            " Average Recall     (AR) @[ IoU=0.50:0.95 | area=medium | maxDets=100 ] = 0.633\n",
            " Average Recall     (AR) @[ IoU=0.50:0.95 | area= large | maxDets=100 ] = 0.550\n",
            "43/43 [==============================] - 17s 399ms/step - det_loss: 0.3238 - cls_loss: 0.1944 - box_loss: 0.0026 - reg_l2_loss: 0.0659 - loss: 0.3897 - learning_rate: 0.0014 - gradient_norm: 4.7000 - val_det_loss: 0.7454 - val_cls_loss: 0.4513 - val_box_loss: 0.0059 - val_reg_l2_loss: 0.0659 - val_loss: 0.8114\n",
            "Epoch 66/100\n",
            "43/43 [==============================] - 16s 366ms/step - det_loss: 0.3541 - cls_loss: 0.2203 - box_loss: 0.0027 - reg_l2_loss: 0.0659 - loss: 0.4200 - learning_rate: 0.0013 - gradient_norm: 4.7329 - val_det_loss: 0.8412 - val_cls_loss: 0.5155 - val_box_loss: 0.0065 - val_reg_l2_loss: 0.0659 - val_loss: 0.9071\n",
            "Epoch 67/100\n",
            "43/43 [==============================] - 15s 357ms/step - det_loss: 0.3570 - cls_loss: 0.2104 - box_loss: 0.0029 - reg_l2_loss: 0.0659 - loss: 0.4229 - learning_rate: 0.0012 - gradient_norm: 5.4652 - val_det_loss: 0.7871 - val_cls_loss: 0.4648 - val_box_loss: 0.0064 - val_reg_l2_loss: 0.0659 - val_loss: 0.8531\n",
            "Epoch 68/100\n",
            "43/43 [==============================] - 16s 364ms/step - det_loss: 0.3590 - cls_loss: 0.2128 - box_loss: 0.0029 - reg_l2_loss: 0.0659 - loss: 0.4249 - learning_rate: 0.0011 - gradient_norm: 5.0026 - val_det_loss: 0.7446 - val_cls_loss: 0.4291 - val_box_loss: 0.0063 - val_reg_l2_loss: 0.0659 - val_loss: 0.8105\n",
            "Epoch 69/100\n",
            "43/43 [==============================] - 16s 361ms/step - det_loss: 0.3643 - cls_loss: 0.2165 - box_loss: 0.0030 - reg_l2_loss: 0.0659 - loss: 0.4303 - learning_rate: 0.0011 - gradient_norm: 5.1783 - val_det_loss: 0.7098 - val_cls_loss: 0.4023 - val_box_loss: 0.0061 - val_reg_l2_loss: 0.0659 - val_loss: 0.7758\n",
            "Epoch 70/100\n",
            "43/43 [==============================] - ETA: 0s - det_loss: 0.3881 - cls_loss: 0.2222 - box_loss: 0.0033 - reg_l2_loss: 0.0659 - loss: 0.4540 - learning_rate: 0.0010 - gradient_norm: 5.0704loading annotations into memory...\n",
            "Done (t=0.00s)\n",
            "creating index...\n",
            "index created!\n",
            "Loading and preparing results...\n",
            "Converting ndarray to lists...\n",
            "(2000, 7)\n",
            "0/2000\n",
            "DONE (t=0.01s)\n",
            "creating index...\n",
            "index created!\n",
            "Running per image evaluation...\n",
            "Evaluate annotation type *bbox*\n",
            "DONE (t=0.15s).\n",
            "Accumulating evaluation results...\n",
            "DONE (t=0.04s).\n",
            " Average Precision  (AP) @[ IoU=0.50:0.95 | area=   all | maxDets=100 ] = 0.398\n",
            " Average Precision  (AP) @[ IoU=0.50      | area=   all | maxDets=100 ] = 0.779\n",
            " Average Precision  (AP) @[ IoU=0.75      | area=   all | maxDets=100 ] = 0.294\n",
            " Average Precision  (AP) @[ IoU=0.50:0.95 | area= small | maxDets=100 ] = 0.005\n",
            " Average Precision  (AP) @[ IoU=0.50:0.95 | area=medium | maxDets=100 ] = 0.433\n",
            " Average Precision  (AP) @[ IoU=0.50:0.95 | area= large | maxDets=100 ] = 0.415\n",
            " Average Recall     (AR) @[ IoU=0.50:0.95 | area=   all | maxDets=  1 ] = 0.383\n",
            " Average Recall     (AR) @[ IoU=0.50:0.95 | area=   all | maxDets= 10 ] = 0.535\n",
            " Average Recall     (AR) @[ IoU=0.50:0.95 | area=   all | maxDets=100 ] = 0.570\n",
            " Average Recall     (AR) @[ IoU=0.50:0.95 | area= small | maxDets=100 ] = 0.200\n",
            " Average Recall     (AR) @[ IoU=0.50:0.95 | area=medium | maxDets=100 ] = 0.617\n",
            " Average Recall     (AR) @[ IoU=0.50:0.95 | area= large | maxDets=100 ] = 0.575\n",
            "43/43 [==============================] - 17s 400ms/step - det_loss: 0.3983 - cls_loss: 0.2265 - box_loss: 0.0034 - reg_l2_loss: 0.0659 - loss: 0.4643 - learning_rate: 0.0010 - gradient_norm: 5.1211 - val_det_loss: 0.6838 - val_cls_loss: 0.3899 - val_box_loss: 0.0059 - val_reg_l2_loss: 0.0659 - val_loss: 0.7498\n",
            "Epoch 71/100\n",
            "43/43 [==============================] - 16s 364ms/step - det_loss: 0.3466 - cls_loss: 0.2050 - box_loss: 0.0028 - reg_l2_loss: 0.0659 - loss: 0.4125 - learning_rate: 9.5470e-04 - gradient_norm: 5.0581 - val_det_loss: 0.7093 - val_cls_loss: 0.4078 - val_box_loss: 0.0060 - val_reg_l2_loss: 0.0659 - val_loss: 0.7752\n",
            "Epoch 72/100\n",
            "43/43 [==============================] - 15s 359ms/step - det_loss: 0.3146 - cls_loss: 0.1953 - box_loss: 0.0024 - reg_l2_loss: 0.0659 - loss: 0.3805 - learning_rate: 8.9313e-04 - gradient_norm: 4.5432 - val_det_loss: 0.6843 - val_cls_loss: 0.3958 - val_box_loss: 0.0058 - val_reg_l2_loss: 0.0659 - val_loss: 0.7502\n",
            "Epoch 73/100\n",
            "43/43 [==============================] - 16s 363ms/step - det_loss: 0.3700 - cls_loss: 0.2181 - box_loss: 0.0030 - reg_l2_loss: 0.0659 - loss: 0.4359 - learning_rate: 8.3318e-04 - gradient_norm: 4.8034 - val_det_loss: 0.6738 - val_cls_loss: 0.3846 - val_box_loss: 0.0058 - val_reg_l2_loss: 0.0659 - val_loss: 0.7397\n",
            "Epoch 74/100\n",
            "43/43 [==============================] - 15s 356ms/step - det_loss: 0.3020 - cls_loss: 0.1856 - box_loss: 0.0023 - reg_l2_loss: 0.0659 - loss: 0.3679 - learning_rate: 7.7491e-04 - gradient_norm: 4.7186 - val_det_loss: 0.6711 - val_cls_loss: 0.3800 - val_box_loss: 0.0058 - val_reg_l2_loss: 0.0659 - val_loss: 0.7371\n",
            "Epoch 75/100\n",
            "43/43 [==============================] - ETA: 0s - det_loss: 0.3384 - cls_loss: 0.2112 - box_loss: 0.0025 - reg_l2_loss: 0.0659 - loss: 0.4043 - learning_rate: 7.1899e-04 - gradient_norm: 5.4836loading annotations into memory...\n",
            "Done (t=0.00s)\n",
            "creating index...\n",
            "index created!\n",
            "Loading and preparing results...\n",
            "Converting ndarray to lists...\n",
            "(2000, 7)\n",
            "0/2000\n",
            "DONE (t=0.01s)\n",
            "creating index...\n",
            "index created!\n",
            "Running per image evaluation...\n",
            "Evaluate annotation type *bbox*\n",
            "DONE (t=0.14s).\n",
            "Accumulating evaluation results...\n",
            "DONE (t=0.03s).\n",
            " Average Precision  (AP) @[ IoU=0.50:0.95 | area=   all | maxDets=100 ] = 0.370\n",
            " Average Precision  (AP) @[ IoU=0.50      | area=   all | maxDets=100 ] = 0.770\n",
            " Average Precision  (AP) @[ IoU=0.75      | area=   all | maxDets=100 ] = 0.381\n",
            " Average Precision  (AP) @[ IoU=0.50:0.95 | area= small | maxDets=100 ] = 0.011\n",
            " Average Precision  (AP) @[ IoU=0.50:0.95 | area=medium | maxDets=100 ] = 0.457\n",
            " Average Precision  (AP) @[ IoU=0.50:0.95 | area= large | maxDets=100 ] = 0.384\n",
            " Average Recall     (AR) @[ IoU=0.50:0.95 | area=   all | maxDets=  1 ] = 0.391\n",
            " Average Recall     (AR) @[ IoU=0.50:0.95 | area=   all | maxDets= 10 ] = 0.548\n",
            " Average Recall     (AR) @[ IoU=0.50:0.95 | area=   all | maxDets=100 ] = 0.570\n",
            " Average Recall     (AR) @[ IoU=0.50:0.95 | area= small | maxDets=100 ] = 0.300\n",
            " Average Recall     (AR) @[ IoU=0.50:0.95 | area=medium | maxDets=100 ] = 0.617\n",
            " Average Recall     (AR) @[ IoU=0.50:0.95 | area= large | maxDets=100 ] = 0.569\n",
            "43/43 [==============================] - 17s 406ms/step - det_loss: 0.3377 - cls_loss: 0.2114 - box_loss: 0.0025 - reg_l2_loss: 0.0659 - loss: 0.4036 - learning_rate: 7.1837e-04 - gradient_norm: 5.4607 - val_det_loss: 0.7475 - val_cls_loss: 0.4276 - val_box_loss: 0.0064 - val_reg_l2_loss: 0.0659 - val_loss: 0.8134\n",
            "Epoch 76/100\n",
            "43/43 [==============================] - 15s 352ms/step - det_loss: 0.3138 - cls_loss: 0.1961 - box_loss: 0.0024 - reg_l2_loss: 0.0659 - loss: 0.3797 - learning_rate: 6.6363e-04 - gradient_norm: 4.9322 - val_det_loss: 0.7269 - val_cls_loss: 0.4103 - val_box_loss: 0.0063 - val_reg_l2_loss: 0.0659 - val_loss: 0.7928\n",
            "Epoch 77/100\n",
            "43/43 [==============================] - 16s 366ms/step - det_loss: 0.3124 - cls_loss: 0.1866 - box_loss: 0.0025 - reg_l2_loss: 0.0659 - loss: 0.3783 - learning_rate: 6.1074e-04 - gradient_norm: 4.6438 - val_det_loss: 0.7310 - val_cls_loss: 0.4088 - val_box_loss: 0.0064 - val_reg_l2_loss: 0.0659 - val_loss: 0.7969\n",
            "Epoch 78/100\n",
            "43/43 [==============================] - 15s 361ms/step - det_loss: 0.3337 - cls_loss: 0.2041 - box_loss: 0.0026 - reg_l2_loss: 0.0659 - loss: 0.3997 - learning_rate: 5.5974e-04 - gradient_norm: 4.7396 - val_det_loss: 0.7272 - val_cls_loss: 0.3981 - val_box_loss: 0.0066 - val_reg_l2_loss: 0.0659 - val_loss: 0.7931\n",
            "Epoch 79/100\n",
            "43/43 [==============================] - 16s 375ms/step - det_loss: 0.2844 - cls_loss: 0.1758 - box_loss: 0.0022 - reg_l2_loss: 0.0659 - loss: 0.3504 - learning_rate: 5.1071e-04 - gradient_norm: 3.9478 - val_det_loss: 0.6894 - val_cls_loss: 0.3955 - val_box_loss: 0.0059 - val_reg_l2_loss: 0.0659 - val_loss: 0.7553\n",
            "Epoch 80/100\n",
            "43/43 [==============================] - ETA: 0s - det_loss: 0.3328 - cls_loss: 0.2067 - box_loss: 0.0025 - reg_l2_loss: 0.0659 - loss: 0.3987 - learning_rate: 4.6418e-04 - gradient_norm: 4.7243loading annotations into memory...\n",
            "Done (t=0.00s)\n",
            "creating index...\n",
            "index created!\n",
            "Loading and preparing results...\n",
            "Converting ndarray to lists...\n",
            "(2000, 7)\n",
            "0/2000\n",
            "DONE (t=0.01s)\n",
            "creating index...\n",
            "index created!\n",
            "Running per image evaluation...\n",
            "Evaluate annotation type *bbox*\n",
            "DONE (t=0.15s).\n",
            "Accumulating evaluation results...\n",
            "DONE (t=0.02s).\n",
            " Average Precision  (AP) @[ IoU=0.50:0.95 | area=   all | maxDets=100 ] = 0.389\n",
            " Average Precision  (AP) @[ IoU=0.50      | area=   all | maxDets=100 ] = 0.815\n",
            " Average Precision  (AP) @[ IoU=0.75      | area=   all | maxDets=100 ] = 0.378\n",
            " Average Precision  (AP) @[ IoU=0.50:0.95 | area= small | maxDets=100 ] = 0.004\n",
            " Average Precision  (AP) @[ IoU=0.50:0.95 | area=medium | maxDets=100 ] = 0.575\n",
            " Average Precision  (AP) @[ IoU=0.50:0.95 | area= large | maxDets=100 ] = 0.380\n",
            " Average Recall     (AR) @[ IoU=0.50:0.95 | area=   all | maxDets=  1 ] = 0.426\n",
            " Average Recall     (AR) @[ IoU=0.50:0.95 | area=   all | maxDets= 10 ] = 0.543\n",
            " Average Recall     (AR) @[ IoU=0.50:0.95 | area=   all | maxDets=100 ] = 0.561\n",
            " Average Recall     (AR) @[ IoU=0.50:0.95 | area= small | maxDets=100 ] = 0.200\n",
            " Average Recall     (AR) @[ IoU=0.50:0.95 | area=medium | maxDets=100 ] = 0.633\n",
            " Average Recall     (AR) @[ IoU=0.50:0.95 | area= large | maxDets=100 ] = 0.556\n",
            "43/43 [==============================] - 17s 392ms/step - det_loss: 0.3318 - cls_loss: 0.2066 - box_loss: 0.0025 - reg_l2_loss: 0.0659 - loss: 0.3978 - learning_rate: 4.6367e-04 - gradient_norm: 4.7199 - val_det_loss: 0.6893 - val_cls_loss: 0.3954 - val_box_loss: 0.0059 - val_reg_l2_loss: 0.0659 - val_loss: 0.7552\n",
            "Epoch 81/100\n",
            "43/43 [==============================] - 16s 377ms/step - det_loss: 0.3171 - cls_loss: 0.1961 - box_loss: 0.0024 - reg_l2_loss: 0.0659 - loss: 0.3830 - learning_rate: 4.1869e-04 - gradient_norm: 4.9563 - val_det_loss: 0.7272 - val_cls_loss: 0.4173 - val_box_loss: 0.0062 - val_reg_l2_loss: 0.0659 - val_loss: 0.7932\n",
            "Epoch 82/100\n",
            "43/43 [==============================] - 15s 360ms/step - det_loss: 0.3198 - cls_loss: 0.1887 - box_loss: 0.0026 - reg_l2_loss: 0.0659 - loss: 0.3857 - learning_rate: 3.7580e-04 - gradient_norm: 4.8924 - val_det_loss: 0.7044 - val_cls_loss: 0.4149 - val_box_loss: 0.0058 - val_reg_l2_loss: 0.0659 - val_loss: 0.7703\n",
            "Epoch 83/100\n",
            "43/43 [==============================] - 17s 387ms/step - det_loss: 0.3200 - cls_loss: 0.1956 - box_loss: 0.0025 - reg_l2_loss: 0.0659 - loss: 0.3860 - learning_rate: 3.3505e-04 - gradient_norm: 4.9410 - val_det_loss: 0.6835 - val_cls_loss: 0.4049 - val_box_loss: 0.0056 - val_reg_l2_loss: 0.0659 - val_loss: 0.7495\n",
            "Epoch 84/100\n",
            "43/43 [==============================] - 16s 368ms/step - det_loss: 0.3155 - cls_loss: 0.1958 - box_loss: 0.0024 - reg_l2_loss: 0.0659 - loss: 0.3814 - learning_rate: 2.9648e-04 - gradient_norm: 5.0723 - val_det_loss: 0.6922 - val_cls_loss: 0.4032 - val_box_loss: 0.0058 - val_reg_l2_loss: 0.0659 - val_loss: 0.7581\n",
            "Epoch 85/100\n",
            "43/43 [==============================] - ETA: 0s - det_loss: 0.3155 - cls_loss: 0.1977 - box_loss: 0.0024 - reg_l2_loss: 0.0659 - loss: 0.3814 - learning_rate: 2.6052e-04 - gradient_norm: 4.7059loading annotations into memory...\n",
            "Done (t=0.00s)\n",
            "creating index...\n",
            "index created!\n",
            "Loading and preparing results...\n",
            "Converting ndarray to lists...\n",
            "(2000, 7)\n",
            "0/2000\n",
            "DONE (t=0.01s)\n",
            "creating index...\n",
            "index created!\n",
            "Running per image evaluation...\n",
            "Evaluate annotation type *bbox*\n",
            "DONE (t=0.14s).\n",
            "Accumulating evaluation results...\n",
            "DONE (t=0.02s).\n",
            " Average Precision  (AP) @[ IoU=0.50:0.95 | area=   all | maxDets=100 ] = 0.389\n",
            " Average Precision  (AP) @[ IoU=0.50      | area=   all | maxDets=100 ] = 0.798\n",
            " Average Precision  (AP) @[ IoU=0.75      | area=   all | maxDets=100 ] = 0.370\n",
            " Average Precision  (AP) @[ IoU=0.50:0.95 | area= small | maxDets=100 ] = 0.002\n",
            " Average Precision  (AP) @[ IoU=0.50:0.95 | area=medium | maxDets=100 ] = 0.525\n",
            " Average Precision  (AP) @[ IoU=0.50:0.95 | area= large | maxDets=100 ] = 0.390\n",
            " Average Recall     (AR) @[ IoU=0.50:0.95 | area=   all | maxDets=  1 ] = 0.383\n",
            " Average Recall     (AR) @[ IoU=0.50:0.95 | area=   all | maxDets= 10 ] = 0.522\n",
            " Average Recall     (AR) @[ IoU=0.50:0.95 | area=   all | maxDets=100 ] = 0.530\n",
            " Average Recall     (AR) @[ IoU=0.50:0.95 | area= small | maxDets=100 ] = 0.100\n",
            " Average Recall     (AR) @[ IoU=0.50:0.95 | area=medium | maxDets=100 ] = 0.633\n",
            " Average Recall     (AR) @[ IoU=0.50:0.95 | area= large | maxDets=100 ] = 0.519\n",
            "43/43 [==============================] - 18s 409ms/step - det_loss: 0.3125 - cls_loss: 0.1962 - box_loss: 0.0023 - reg_l2_loss: 0.0659 - loss: 0.3784 - learning_rate: 2.6013e-04 - gradient_norm: 4.6576 - val_det_loss: 0.7322 - val_cls_loss: 0.4249 - val_box_loss: 0.0061 - val_reg_l2_loss: 0.0659 - val_loss: 0.7981\n",
            "Epoch 86/100\n",
            "43/43 [==============================] - 15s 360ms/step - det_loss: 0.3308 - cls_loss: 0.2053 - box_loss: 0.0025 - reg_l2_loss: 0.0659 - loss: 0.3967 - learning_rate: 2.2604e-04 - gradient_norm: 4.6100 - val_det_loss: 0.7304 - val_cls_loss: 0.4272 - val_box_loss: 0.0061 - val_reg_l2_loss: 0.0659 - val_loss: 0.7963\n",
            "Epoch 87/100\n",
            "43/43 [==============================] - 16s 362ms/step - det_loss: 0.2881 - cls_loss: 0.1765 - box_loss: 0.0022 - reg_l2_loss: 0.0659 - loss: 0.3540 - learning_rate: 1.9423e-04 - gradient_norm: 4.2402 - val_det_loss: 0.7212 - val_cls_loss: 0.4246 - val_box_loss: 0.0059 - val_reg_l2_loss: 0.0659 - val_loss: 0.7871\n",
            "Epoch 88/100\n",
            "43/43 [==============================] - 16s 365ms/step - det_loss: 0.2683 - cls_loss: 0.1672 - box_loss: 0.0020 - reg_l2_loss: 0.0659 - loss: 0.3343 - learning_rate: 1.6475e-04 - gradient_norm: 4.3021 - val_det_loss: 0.7194 - val_cls_loss: 0.4242 - val_box_loss: 0.0059 - val_reg_l2_loss: 0.0659 - val_loss: 0.7853\n",
            "Epoch 89/100\n",
            "43/43 [==============================] - 16s 366ms/step - det_loss: 0.2843 - cls_loss: 0.1768 - box_loss: 0.0021 - reg_l2_loss: 0.0659 - loss: 0.3502 - learning_rate: 1.3761e-04 - gradient_norm: 4.0660 - val_det_loss: 0.7025 - val_cls_loss: 0.4114 - val_box_loss: 0.0058 - val_reg_l2_loss: 0.0659 - val_loss: 0.7684\n",
            "Epoch 90/100\n",
            "43/43 [==============================] - ETA: 0s - det_loss: 0.2806 - cls_loss: 0.1718 - box_loss: 0.0022 - reg_l2_loss: 0.0659 - loss: 0.3465 - learning_rate: 1.1312e-04 - gradient_norm: 4.3045loading annotations into memory...\n",
            "Done (t=0.00s)\n",
            "creating index...\n",
            "index created!\n",
            "Loading and preparing results...\n",
            "Converting ndarray to lists...\n",
            "(2000, 7)\n",
            "0/2000\n",
            "DONE (t=0.01s)\n",
            "creating index...\n",
            "index created!\n",
            "Running per image evaluation...\n",
            "Evaluate annotation type *bbox*\n",
            "DONE (t=0.15s).\n",
            "Accumulating evaluation results...\n",
            "DONE (t=0.03s).\n",
            " Average Precision  (AP) @[ IoU=0.50:0.95 | area=   all | maxDets=100 ] = 0.413\n",
            " Average Precision  (AP) @[ IoU=0.50      | area=   all | maxDets=100 ] = 0.808\n",
            " Average Precision  (AP) @[ IoU=0.75      | area=   all | maxDets=100 ] = 0.357\n",
            " Average Precision  (AP) @[ IoU=0.50:0.95 | area= small | maxDets=100 ] = 0.004\n",
            " Average Precision  (AP) @[ IoU=0.50:0.95 | area=medium | maxDets=100 ] = 0.544\n",
            " Average Precision  (AP) @[ IoU=0.50:0.95 | area= large | maxDets=100 ] = 0.413\n",
            " Average Recall     (AR) @[ IoU=0.50:0.95 | area=   all | maxDets=  1 ] = 0.404\n",
            " Average Recall     (AR) @[ IoU=0.50:0.95 | area=   all | maxDets= 10 ] = 0.552\n",
            " Average Recall     (AR) @[ IoU=0.50:0.95 | area=   all | maxDets=100 ] = 0.578\n",
            " Average Recall     (AR) @[ IoU=0.50:0.95 | area= small | maxDets=100 ] = 0.200\n",
            " Average Recall     (AR) @[ IoU=0.50:0.95 | area=medium | maxDets=100 ] = 0.650\n",
            " Average Recall     (AR) @[ IoU=0.50:0.95 | area= large | maxDets=100 ] = 0.575\n",
            "43/43 [==============================] - 17s 406ms/step - det_loss: 0.2843 - cls_loss: 0.1731 - box_loss: 0.0022 - reg_l2_loss: 0.0659 - loss: 0.3502 - learning_rate: 1.1286e-04 - gradient_norm: 4.3549 - val_det_loss: 0.7098 - val_cls_loss: 0.4134 - val_box_loss: 0.0059 - val_reg_l2_loss: 0.0659 - val_loss: 0.7757\n",
            "Epoch 91/100\n",
            "43/43 [==============================] - 16s 370ms/step - det_loss: 0.3326 - cls_loss: 0.1911 - box_loss: 0.0028 - reg_l2_loss: 0.0659 - loss: 0.3986 - learning_rate: 9.0511e-05 - gradient_norm: 4.3973 - val_det_loss: 0.7252 - val_cls_loss: 0.4259 - val_box_loss: 0.0060 - val_reg_l2_loss: 0.0659 - val_loss: 0.7912\n",
            "Epoch 92/100\n",
            "43/43 [==============================] - 15s 354ms/step - det_loss: 0.3416 - cls_loss: 0.2120 - box_loss: 0.0026 - reg_l2_loss: 0.0659 - loss: 0.4075 - learning_rate: 7.0587e-05 - gradient_norm: 5.0205 - val_det_loss: 0.7248 - val_cls_loss: 0.4260 - val_box_loss: 0.0060 - val_reg_l2_loss: 0.0659 - val_loss: 0.7907\n",
            "Epoch 93/100\n",
            "43/43 [==============================] - 16s 367ms/step - det_loss: 0.2939 - cls_loss: 0.1825 - box_loss: 0.0022 - reg_l2_loss: 0.0659 - loss: 0.3598 - learning_rate: 5.3109e-05 - gradient_norm: 4.5441 - val_det_loss: 0.7191 - val_cls_loss: 0.4263 - val_box_loss: 0.0059 - val_reg_l2_loss: 0.0659 - val_loss: 0.7851\n",
            "Epoch 94/100\n",
            "43/43 [==============================] - 16s 365ms/step - det_loss: 0.2990 - cls_loss: 0.1886 - box_loss: 0.0022 - reg_l2_loss: 0.0659 - loss: 0.3649 - learning_rate: 3.8095e-05 - gradient_norm: 4.5229 - val_det_loss: 0.7165 - val_cls_loss: 0.4226 - val_box_loss: 0.0059 - val_reg_l2_loss: 0.0659 - val_loss: 0.7824\n",
            "Epoch 95/100\n",
            "43/43 [==============================] - ETA: 0s - det_loss: 0.3112 - cls_loss: 0.1856 - box_loss: 0.0025 - reg_l2_loss: 0.0659 - loss: 0.3772 - learning_rate: 2.5682e-05 - gradient_norm: 4.5348loading annotations into memory...\n",
            "Done (t=0.00s)\n",
            "creating index...\n",
            "index created!\n",
            "Loading and preparing results...\n",
            "Converting ndarray to lists...\n",
            "(2000, 7)\n",
            "0/2000\n",
            "DONE (t=0.01s)\n",
            "creating index...\n",
            "index created!\n",
            "Running per image evaluation...\n",
            "Evaluate annotation type *bbox*\n",
            "DONE (t=0.14s).\n",
            "Accumulating evaluation results...\n",
            "DONE (t=0.04s).\n",
            " Average Precision  (AP) @[ IoU=0.50:0.95 | area=   all | maxDets=100 ] = 0.429\n",
            " Average Precision  (AP) @[ IoU=0.50      | area=   all | maxDets=100 ] = 0.806\n",
            " Average Precision  (AP) @[ IoU=0.75      | area=   all | maxDets=100 ] = 0.374\n",
            " Average Precision  (AP) @[ IoU=0.50:0.95 | area= small | maxDets=100 ] = 0.004\n",
            " Average Precision  (AP) @[ IoU=0.50:0.95 | area=medium | maxDets=100 ] = 0.557\n",
            " Average Precision  (AP) @[ IoU=0.50:0.95 | area= large | maxDets=100 ] = 0.436\n",
            " Average Recall     (AR) @[ IoU=0.50:0.95 | area=   all | maxDets=  1 ] = 0.417\n",
            " Average Recall     (AR) @[ IoU=0.50:0.95 | area=   all | maxDets= 10 ] = 0.552\n",
            " Average Recall     (AR) @[ IoU=0.50:0.95 | area=   all | maxDets=100 ] = 0.570\n",
            " Average Recall     (AR) @[ IoU=0.50:0.95 | area= small | maxDets=100 ] = 0.200\n",
            " Average Recall     (AR) @[ IoU=0.50:0.95 | area=medium | maxDets=100 ] = 0.650\n",
            " Average Recall     (AR) @[ IoU=0.50:0.95 | area= large | maxDets=100 ] = 0.562\n",
            "43/43 [==============================] - 17s 395ms/step - det_loss: 0.3083 - cls_loss: 0.1843 - box_loss: 0.0025 - reg_l2_loss: 0.0659 - loss: 0.3743 - learning_rate: 2.5560e-05 - gradient_norm: 4.4932 - val_det_loss: 0.7166 - val_cls_loss: 0.4220 - val_box_loss: 0.0059 - val_reg_l2_loss: 0.0659 - val_loss: 0.7825\n",
            "Epoch 96/100\n",
            "43/43 [==============================] - 15s 356ms/step - det_loss: 0.2827 - cls_loss: 0.1695 - box_loss: 0.0023 - reg_l2_loss: 0.0659 - loss: 0.3486 - learning_rate: 1.5517e-05 - gradient_norm: 4.2649 - val_det_loss: 0.7147 - val_cls_loss: 0.4186 - val_box_loss: 0.0059 - val_reg_l2_loss: 0.0659 - val_loss: 0.7807\n",
            "Epoch 97/100\n",
            "43/43 [==============================] - 16s 371ms/step - det_loss: 0.3411 - cls_loss: 0.2041 - box_loss: 0.0027 - reg_l2_loss: 0.0659 - loss: 0.4070 - learning_rate: 7.9752e-06 - gradient_norm: 5.1690 - val_det_loss: 0.7136 - val_cls_loss: 0.4184 - val_box_loss: 0.0059 - val_reg_l2_loss: 0.0659 - val_loss: 0.7796\n",
            "Epoch 98/100\n",
            "43/43 [==============================] - 16s 369ms/step - det_loss: 0.3133 - cls_loss: 0.1849 - box_loss: 0.0026 - reg_l2_loss: 0.0659 - loss: 0.3792 - learning_rate: 2.9426e-06 - gradient_norm: 4.3879 - val_det_loss: 0.7139 - val_cls_loss: 0.4172 - val_box_loss: 0.0059 - val_reg_l2_loss: 0.0659 - val_loss: 0.7799\n",
            "Epoch 99/100\n",
            "43/43 [==============================] - 15s 353ms/step - det_loss: 0.3130 - cls_loss: 0.1956 - box_loss: 0.0023 - reg_l2_loss: 0.0659 - loss: 0.3790 - learning_rate: 4.2445e-07 - gradient_norm: 4.7197 - val_det_loss: 0.7179 - val_cls_loss: 0.4203 - val_box_loss: 0.0060 - val_reg_l2_loss: 0.0659 - val_loss: 0.7839\n",
            "Epoch 100/100\n",
            "43/43 [==============================] - ETA: 0s - det_loss: 0.3160 - cls_loss: 0.1922 - box_loss: 0.0025 - reg_l2_loss: 0.0659 - loss: 0.3819 - learning_rate: 4.0503e-07 - gradient_norm: 4.4689loading annotations into memory...\n",
            "Done (t=0.00s)\n",
            "creating index...\n",
            "index created!\n",
            "Loading and preparing results...\n",
            "Converting ndarray to lists...\n",
            "(2000, 7)\n",
            "0/2000\n",
            "DONE (t=0.01s)\n",
            "creating index...\n",
            "index created!\n",
            "Running per image evaluation...\n",
            "Evaluate annotation type *bbox*\n",
            "DONE (t=0.15s).\n",
            "Accumulating evaluation results...\n",
            "DONE (t=0.02s).\n",
            " Average Precision  (AP) @[ IoU=0.50:0.95 | area=   all | maxDets=100 ] = 0.405\n",
            " Average Precision  (AP) @[ IoU=0.50      | area=   all | maxDets=100 ] = 0.812\n",
            " Average Precision  (AP) @[ IoU=0.75      | area=   all | maxDets=100 ] = 0.381\n",
            " Average Precision  (AP) @[ IoU=0.50:0.95 | area= small | maxDets=100 ] = 0.003\n",
            " Average Precision  (AP) @[ IoU=0.50:0.95 | area=medium | maxDets=100 ] = 0.557\n",
            " Average Precision  (AP) @[ IoU=0.50:0.95 | area= large | maxDets=100 ] = 0.402\n",
            " Average Recall     (AR) @[ IoU=0.50:0.95 | area=   all | maxDets=  1 ] = 0.396\n",
            " Average Recall     (AR) @[ IoU=0.50:0.95 | area=   all | maxDets= 10 ] = 0.543\n",
            " Average Recall     (AR) @[ IoU=0.50:0.95 | area=   all | maxDets=100 ] = 0.570\n",
            " Average Recall     (AR) @[ IoU=0.50:0.95 | area= small | maxDets=100 ] = 0.200\n",
            " Average Recall     (AR) @[ IoU=0.50:0.95 | area=medium | maxDets=100 ] = 0.650\n",
            " Average Recall     (AR) @[ IoU=0.50:0.95 | area= large | maxDets=100 ] = 0.562\n",
            "43/43 [==============================] - 17s 398ms/step - det_loss: 0.3154 - cls_loss: 0.1922 - box_loss: 0.0025 - reg_l2_loss: 0.0659 - loss: 0.3814 - learning_rate: 4.2312e-07 - gradient_norm: 4.4562 - val_det_loss: 0.7205 - val_cls_loss: 0.4225 - val_box_loss: 0.0060 - val_reg_l2_loss: 0.0659 - val_loss: 0.7865\n"
          ]
        }
      ]
    },
    {
      "cell_type": "code",
      "source": [
        "model.evaluate(val_data)"
      ],
      "metadata": {
        "colab": {
          "base_uri": "https://localhost:8080/"
        },
        "id": "-5WaQfHAmNy6",
        "outputId": "cf4b5bd0-44e5-4e0b-f778-f08f11fb94ad"
      },
      "execution_count": null,
      "outputs": [
        {
          "output_type": "stream",
          "name": "stdout",
          "text": [
            "\r1/1 [==============================] - 6s 6s/step\n",
            "\n",
            "loading annotations into memory...\n",
            "Done (t=0.00s)\n",
            "creating index...\n",
            "index created!\n",
            "Loading and preparing results...\n",
            "Converting ndarray to lists...\n",
            "(2000, 7)\n",
            "0/2000\n",
            "DONE (t=0.01s)\n",
            "creating index...\n",
            "index created!\n",
            "Running per image evaluation...\n",
            "Evaluate annotation type *bbox*\n",
            "DONE (t=0.14s).\n",
            "Accumulating evaluation results...\n",
            "DONE (t=0.03s).\n",
            " Average Precision  (AP) @[ IoU=0.50:0.95 | area=   all | maxDets=100 ] = 0.405\n",
            " Average Precision  (AP) @[ IoU=0.50      | area=   all | maxDets=100 ] = 0.812\n",
            " Average Precision  (AP) @[ IoU=0.75      | area=   all | maxDets=100 ] = 0.381\n",
            " Average Precision  (AP) @[ IoU=0.50:0.95 | area= small | maxDets=100 ] = 0.003\n",
            " Average Precision  (AP) @[ IoU=0.50:0.95 | area=medium | maxDets=100 ] = 0.557\n",
            " Average Precision  (AP) @[ IoU=0.50:0.95 | area= large | maxDets=100 ] = 0.402\n",
            " Average Recall     (AR) @[ IoU=0.50:0.95 | area=   all | maxDets=  1 ] = 0.396\n",
            " Average Recall     (AR) @[ IoU=0.50:0.95 | area=   all | maxDets= 10 ] = 0.543\n",
            " Average Recall     (AR) @[ IoU=0.50:0.95 | area=   all | maxDets=100 ] = 0.570\n",
            " Average Recall     (AR) @[ IoU=0.50:0.95 | area= small | maxDets=100 ] = 0.200\n",
            " Average Recall     (AR) @[ IoU=0.50:0.95 | area=medium | maxDets=100 ] = 0.650\n",
            " Average Recall     (AR) @[ IoU=0.50:0.95 | area= large | maxDets=100 ] = 0.562\n"
          ]
        },
        {
          "output_type": "execute_result",
          "data": {
            "text/plain": [
              "{'AP': 0.4053988,\n",
              " 'AP50': 0.811736,\n",
              " 'AP75': 0.38055095,\n",
              " 'AP_/bat': 0.4053988,\n",
              " 'APl': 0.40224618,\n",
              " 'APm': 0.557009,\n",
              " 'APs': 0.0034482758,\n",
              " 'ARl': 0.5625,\n",
              " 'ARm': 0.65,\n",
              " 'ARmax1': 0.39565217,\n",
              " 'ARmax10': 0.54347825,\n",
              " 'ARmax100': 0.56956524,\n",
              " 'ARs': 0.2}"
            ]
          },
          "metadata": {},
          "execution_count": 8
        }
      ]
    },
    {
      "cell_type": "code",
      "source": [
        ""
      ],
      "metadata": {
        "id": "nL75LEXe1N78"
      },
      "execution_count": null,
      "outputs": []
    },
    {
      "cell_type": "code",
      "source": [
        ""
      ],
      "metadata": {
        "id": "bcR2U3yM3DOh"
      },
      "execution_count": null,
      "outputs": []
    },
    {
      "cell_type": "code",
      "source": [
        ""
      ],
      "metadata": {
        "id": "5zEhxYdzRDWa"
      },
      "execution_count": null,
      "outputs": []
    },
    {
      "cell_type": "code",
      "source": [
        "import matplotlib.pyplot as plt\n",
        "\n",
        "class_loss = model.model.history.history['cls_loss']\n",
        "val_class_loss = model.model.history.history['val_cls_loss']\n",
        "\n",
        "plt.plot(class_loss, label='Classification loss for training', color='black')\n",
        "plt.plot(val_class_loss, label = 'Classification loss for validation', linestyle='dashed', color='black')\n",
        "plt.xlabel('Epochs')\n",
        "plt.ylabel('Classification Loss')\n",
        "plt.ylim([0, 0.85])\n",
        "plt.xticks(list(range(1, EPOCHS+1, 20)))\n",
        "plt.legend(loc='upper right')\n",
        "plt.savefig('/content/cls_loss.jpg', bbox_inches='tight')\n",
        "plt.show()"
      ],
      "metadata": {
        "id": "7siA94yKolQ3",
        "colab": {
          "base_uri": "https://localhost:8080/",
          "height": 279
        },
        "outputId": "81a21d2b-4e09-4e7b-c6ca-3d4baa3708e4"
      },
      "execution_count": null,
      "outputs": [
        {
          "output_type": "display_data",
          "data": {
            "image/png": "[encoded data removed]",
            "text/plain": [
              "<Figure size 432x288 with 1 Axes>"
            ]
          },
          "metadata": {
            "needs_background": "light"
          }
        }
      ]
    },
    {
      "cell_type": "code",
      "source": [
        "box_loss = model.model.history.history['box_loss']\n",
        "val_box_loss = model.model.history.history['val_box_loss']\n",
        "\n",
        "plt.plot(box_loss, label='Box loss for training', color='black')\n",
        "plt.plot(val_box_loss, label = 'Box loss for validation', linestyle='dashed', color='black')\n",
        "plt.xlabel('Epochs')\n",
        "plt.ylabel('Box Loss')\n",
        "# plt.ylim([0, 0.85])\n",
        "plt.xticks(list(range(1, EPOCHS+1, 20)))\n",
        "plt.legend(loc='upper right')\n",
        "plt.savefig('/content/box_loss.jpg', bbox_inches = 'tight')\n",
        "plt.show()"
      ],
      "metadata": {
        "colab": {
          "base_uri": "https://localhost:8080/",
          "height": 279
        },
        "id": "N0hZBl4FGlqD",
        "outputId": "f0fe7707-aecb-4fc5-af9f-906cf7cafd7c"
      },
      "execution_count": null,
      "outputs": [
        {
          "output_type": "display_data",
          "data": {
            "image/png": "[encoded data removed]",
            "text/plain": [
              "<Figure size 432x288 with 1 Axes>"
            ]
          },
          "metadata": {
            "needs_background": "light"
          }
        }
      ]
    },
    {
      "cell_type": "code",
      "source": [
        "model.export(export_dir='/content/', tflite_filename='bat_100.tflite')"
      ],
      "metadata": {
        "colab": {
          "base_uri": "https://localhost:8080/"
        },
        "id": "90AANn5goT_z",
        "outputId": "c5d9280a-4cb4-4043-9171-9d6c366dbb43"
      },
      "execution_count": null,
      "outputs": [
        {
          "output_type": "stream",
          "name": "stdout",
          "text": [
            "WARNING:tensorflow:Skipping full serialization of Keras layer <tensorflow_examples.lite.model_maker.core.task.model_spec.object_detector_spec.ExportModel object at 0x7f73a36ec910>, because it is not built.\n"
          ]
        },
        {
          "output_type": "stream",
          "name": "stderr",
          "text": [
            "WARNING:tensorflow:Skipping full serialization of Keras layer <tensorflow_examples.lite.model_maker.core.task.model_spec.object_detector_spec.ExportModel object at 0x7f73a36ec910>, because it is not built.\n",
            "WARNING:absl:Found untraced functions such as restored_function_body, restored_function_body, restored_function_body, restored_function_body, restored_function_body while saving (showing 5 of 1520). These functions will not be directly callable after loading.\n"
          ]
        },
        {
          "output_type": "stream",
          "name": "stdout",
          "text": [
            "INFO:tensorflow:Assets written to: /tmp/tmptv60l1wq/assets\n"
          ]
        },
        {
          "output_type": "stream",
          "name": "stderr",
          "text": [
            "INFO:tensorflow:Assets written to: /tmp/tmptv60l1wq/assets\n"
          ]
        },
        {
          "output_type": "stream",
          "name": "stdout",
          "text": [
            "INFO:tensorflow:Label file is inside the TFLite model with metadata.\n"
          ]
        },
        {
          "output_type": "stream",
          "name": "stderr",
          "text": [
            "INFO:tensorflow:Label file is inside the TFLite model with metadata.\n"
          ]
        },
        {
          "output_type": "stream",
          "name": "stdout",
          "text": [
            "INFO:tensorflow:Saving labels in /tmp/tmp6okh2lrn/labelmap.txt.\n"
          ]
        },
        {
          "output_type": "stream",
          "name": "stderr",
          "text": [
            "INFO:tensorflow:Saving labels in /tmp/tmp6okh2lrn/labelmap.txt.\n"
          ]
        },
        {
          "output_type": "stream",
          "name": "stdout",
          "text": [
            "INFO:tensorflow:TensorFlow Lite model exported successfully: /content/bat_100.tflite\n"
          ]
        },
        {
          "output_type": "stream",
          "name": "stderr",
          "text": [
            "INFO:tensorflow:TensorFlow Lite model exported successfully: /content/bat_100.tflite\n"
          ]
        }
      ]
    },
    {
      "cell_type": "code",
      "source": [
        "import os\n",
        "\n",
        "os.chdir('/content')"
      ],
      "metadata": {
        "id": "pIg4Tgkor17s"
      },
      "execution_count": null,
      "outputs": []
    },
    {
      "cell_type": "code",
      "source": [
        "model.evaluate_tflite('/content/bat_100.tflite', val_data)"
      ],
      "metadata": {
        "colab": {
          "base_uri": "https://localhost:8080/"
        },
        "id": "DB_UzyRhocjW",
        "outputId": "2642c365-e1c8-4224-a26a-822db2bd6a1d"
      },
      "execution_count": null,
      "outputs": [
        {
          "output_type": "stream",
          "name": "stdout",
          "text": [
            "20/20 [==============================] - 45s 2s/step\n",
            "\n",
            "loading annotations into memory...\n",
            "Done (t=0.00s)\n",
            "creating index...\n",
            "index created!\n",
            "Loading and preparing results...\n",
            "Converting ndarray to lists...\n",
            "(500, 7)\n",
            "0/500\n",
            "DONE (t=0.00s)\n",
            "creating index...\n",
            "index created!\n",
            "Running per image evaluation...\n",
            "Evaluate annotation type *bbox*\n",
            "DONE (t=0.04s).\n",
            "Accumulating evaluation results...\n",
            "DONE (t=0.01s).\n",
            " Average Precision  (AP) @[ IoU=0.50:0.95 | area=   all | maxDets=100 ] = 0.407\n",
            " Average Precision  (AP) @[ IoU=0.50      | area=   all | maxDets=100 ] = 0.834\n",
            " Average Precision  (AP) @[ IoU=0.75      | area=   all | maxDets=100 ] = 0.263\n",
            " Average Precision  (AP) @[ IoU=0.50:0.95 | area= small | maxDets=100 ] = 0.000\n",
            " Average Precision  (AP) @[ IoU=0.50:0.95 | area=medium | maxDets=100 ] = 0.546\n",
            " Average Precision  (AP) @[ IoU=0.50:0.95 | area= large | maxDets=100 ] = 0.409\n",
            " Average Recall     (AR) @[ IoU=0.50:0.95 | area=   all | maxDets=  1 ] = 0.426\n",
            " Average Recall     (AR) @[ IoU=0.50:0.95 | area=   all | maxDets= 10 ] = 0.504\n",
            " Average Recall     (AR) @[ IoU=0.50:0.95 | area=   all | maxDets=100 ] = 0.509\n",
            " Average Recall     (AR) @[ IoU=0.50:0.95 | area= small | maxDets=100 ] = 0.000\n",
            " Average Recall     (AR) @[ IoU=0.50:0.95 | area=medium | maxDets=100 ] = 0.583\n",
            " Average Recall     (AR) @[ IoU=0.50:0.95 | area= large | maxDets=100 ] = 0.512\n"
          ]
        },
        {
          "output_type": "execute_result",
          "data": {
            "text/plain": [
              "{'AP': 0.40675595,\n",
              " 'AP50': 0.8342718,\n",
              " 'AP75': 0.2633477,\n",
              " 'AP_/bat': 0.40675595,\n",
              " 'APl': 0.4087138,\n",
              " 'APm': 0.5462447,\n",
              " 'APs': 0.0,\n",
              " 'ARl': 0.5125,\n",
              " 'ARm': 0.5833333,\n",
              " 'ARmax1': 0.42608696,\n",
              " 'ARmax10': 0.5043478,\n",
              " 'ARmax100': 0.50869566,\n",
              " 'ARs': 0.0}"
            ]
          },
          "metadata": {},
          "execution_count": 54
        }
      ]
    },
    {
      "cell_type": "code",
      "source": [
        "# Download the TFLite model\n",
        "\n",
        "from google.colab import files\n",
        "files.download('bat_100.tflite')"
      ],
      "metadata": {
        "colab": {
          "base_uri": "https://localhost:8080/",
          "height": 17
        },
        "id": "F3ewBh2hrjZj",
        "outputId": "c6c06dca-4cc5-481d-a9d3-f2d765d763ae"
      },
      "execution_count": null,
      "outputs": [
        {
          "output_type": "display_data",
          "data": {
            "application/javascript": [
              "\n",
              "    async function download(id, filename, size) {\n",
              "      if (!google.colab.kernel.accessAllowed) {\n",
              "        return;\n",
              "      }\n",
              "      const div = document.createElement('div');\n",
              "      const label = document.createElement('label');\n",
              "      label.textContent = `Downloading \"${filename}\": `;\n",
              "      div.appendChild(label);\n",
              "      const progress = document.createElement('progress');\n",
              "      progress.max = size;\n",
              "      div.appendChild(progress);\n",
              "      document.body.appendChild(div);\n",
              "\n",
              "      const buffers = [];\n",
              "      let downloaded = 0;\n",
              "\n",
              "      const channel = await google.colab.kernel.comms.open(id);\n",
              "      // Send a message to notify the kernel that we're ready.\n",
              "      channel.send({})\n",
              "\n",
              "      for await (const message of channel.messages) {\n",
              "        // Send a message to notify the kernel that we're ready.\n",
              "        channel.send({})\n",
              "        if (message.buffers) {\n",
              "          for (const buffer of message.buffers) {\n",
              "            buffers.push(buffer);\n",
              "            downloaded += buffer.byteLength;\n",
              "            progress.value = downloaded;\n",
              "          }\n",
              "        }\n",
              "      }\n",
              "      const blob = new Blob(buffers, {type: 'application/binary'});\n",
              "      const a = document.createElement('a');\n",
              "      a.href = window.URL.createObjectURL(blob);\n",
              "      a.download = filename;\n",
              "      div.appendChild(a);\n",
              "      a.click();\n",
              "      div.remove();\n",
              "    }\n",
              "  "
            ],
            "text/plain": [
              "<IPython.core.display.Javascript object>"
            ]
          },
          "metadata": {}
        },
        {
          "output_type": "display_data",
          "data": {
            "application/javascript": [
              "download(\"download_f31336f5-cf69-4321-b170-8352d030a2c2\", \"bat_100.tflite\", 4444634)"
            ],
            "text/plain": [
              "<IPython.core.display.Javascript object>"
            ]
          },
          "metadata": {}
        }
      ]
    },
    {
      "cell_type": "code",
      "source": [
        "# Latest version has some errors\n",
        "\n",
        "!pip install opencv-python-headless==4.1.2.30"
      ],
      "metadata": {
        "colab": {
          "base_uri": "https://localhost:8080/"
        },
        "id": "U2h4hRsArymT",
        "outputId": "ce2c4e10-6066-4b83-a7d0-fb6b172beaa8"
      },
      "execution_count": null,
      "outputs": [
        {
          "output_type": "stream",
          "name": "stdout",
          "text": [
            "Requirement already satisfied: opencv-python-headless==4.1.2.30 in /usr/local/lib/python3.7/dist-packages (4.1.2.30)\n",
            "Requirement already satisfied: numpy>=1.14.5 in /usr/local/lib/python3.7/dist-packages (from opencv-python-headless==4.1.2.30) (1.19.5)\n"
          ]
        }
      ]
    },
    {
      "cell_type": "code",
      "source": [
        ""
      ],
      "metadata": {
        "id": "LcegrxInsJ27"
      },
      "execution_count": null,
      "outputs": []
    },
    {
      "cell_type": "code",
      "source": [
        ""
      ],
      "metadata": {
        "id": "2LHvYenC1FLX"
      },
      "execution_count": null,
      "outputs": []
    },
    {
      "cell_type": "code",
      "source": [
        ""
      ],
      "metadata": {
        "id": "2RMkE6WnsQGY"
      },
      "execution_count": null,
      "outputs": []
    },
    {
      "cell_type": "code",
      "source": [
        ""
      ],
      "metadata": {
        "id": "xw6pesWVsaID"
      },
      "execution_count": null,
      "outputs": []
    }
  ]
}